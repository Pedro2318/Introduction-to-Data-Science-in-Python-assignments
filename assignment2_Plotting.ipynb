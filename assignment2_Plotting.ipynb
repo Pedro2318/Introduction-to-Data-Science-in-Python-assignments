{
  "cells": [
    {
      "cell_type": "markdown",
      "metadata": {
        "id": "view-in-github",
        "colab_type": "text"
      },
      "source": [
        "<a href=\"https://colab.research.google.com/github/Pedro2318/Introduction-to-Data-Science-in-Python-assignments/blob/main/assignment2_Plotting.ipynb\" target=\"_parent\"><img src=\"https://colab.research.google.com/assets/colab-badge.svg\" alt=\"Open In Colab\"/></a>"
      ]
    },
    {
      "cell_type": "code",
      "execution_count": 7,
      "metadata": {
        "deletable": false,
        "editable": false,
        "nbgrader": {
          "cell_type": "code",
          "checksum": "e45d05a7e6705e7bc18fff5d5890ef58",
          "grade": false,
          "grade_id": "cell-44ca835c70f3040a",
          "locked": true,
          "schema_version": 3,
          "solution": false,
          "task": false
        },
        "id": "cM5y72KvdvIO",
        "outputId": "4adfcc02-c70c-423f-f310-22eda108a445",
        "colab": {
          "base_uri": "https://localhost:8080/",
          "height": 17
        }
      },
      "outputs": [
        {
          "output_type": "display_data",
          "data": {
            "text/plain": [
              "<IPython.core.display.Javascript object>"
            ],
            "application/javascript": [
              "IPython.OutputArea.prototype._should_scroll = function(lines) {\n",
              "    return false; // disable scroll bar when displaying Folium map\n",
              "}\n"
            ]
          },
          "metadata": {}
        }
      ],
      "source": [
        "%%javascript\n",
        "IPython.OutputArea.prototype._should_scroll = function(lines) {\n",
        "    return false; // disable scroll bar when displaying Folium map\n",
        "}"
      ]
    },
    {
      "cell_type": "markdown",
      "metadata": {
        "deletable": false,
        "editable": false,
        "nbgrader": {
          "cell_type": "markdown",
          "checksum": "ae6111747a75bdb5c5393f44d1045577",
          "grade": false,
          "grade_id": "cell-c676d66924c74eea",
          "locked": true,
          "schema_version": 3,
          "solution": false,
          "task": false
        },
        "id": "MEeYCtoXdvIQ"
      },
      "source": [
        "# Assignment 2\n",
        "\n",
        "Before working on this assignment please read these instructions fully. In the submission area, you will notice that you can click the link to **Preview the Grading** for each step of the assignment. This is the criteria that will be used for peer grading. Please familiarize yourself with the criteria before beginning the assignment.\n",
        "\n",
        "The data for this assignment comes from a subset of The National Centers for Environmental Information (NCEI) [Global Historical Climatology Network daily (GHCNd)](https://www.ncei.noaa.gov/products/land-based-station/global-historical-climatology-network-daily) (GHCN-Daily). The GHCN-Daily is comprised of daily climate records from thousands of land surface stations across the globe - it's a wonderfully large dataset to play with! In particular, you will be asked to use data from the Ann Arbor Michigan location (my home!). and this is stored in the file: `assets/fb441e62df2d58994928907a91895ec62c2c42e6cd075c2700843b89.csv`\n",
        "\n",
        "Each row in this datafile corresponds to a single observation from a weather station, and has the following variables:\n",
        "* **id** : station identification code\n",
        "* **date** : date in YYYY-MM-DD format (e.g. 2012-01-24 = January 24, 2012)\n",
        "* **element** : indicator of element type\n",
        "    * TMAX : Maximum temperature (tenths of degrees C)\n",
        "    * TMIN : Minimum temperature (tenths of degrees C)\n",
        "* **value** : data value for element (tenths of degrees C)\n",
        "\n",
        "For this assignment, you must:\n",
        "\n",
        "1. Read the documentation and familiarize yourself with the dataset, then write a python notebook which plots line graphs of the record high and record low temperatures by day of the year over the period 2005-2014. The area between the record high and record low temperatures for each day should be shaded.\n",
        "2. Overlay a scatter of the 2015 data for any points (highs and lows) for which the ten year record (2005-2014) record high or record low was broken in 2015. (Based on the graph, do you think extreme weather is getting more frequent in 2015?)\n",
        "3. Watch out for leap days (i.e. February 29th), it is reasonable to remove these points from the dataset for the purpose of this visualization.\n",
        "4. Make the visual nice! Leverage principles from the first module in this course when developing your solution. Consider issues such as legends, labels, and chart junk.\n",
        "\n",
        "I've written some steps I think would be good to go through, but there are other ways to solve this assignment so feel free to explore the pandas library! What I really want to see is an image that looks like this sketch I drew at my desk:\n",
        "\n",
        "![](assets/chris_sketch.png)"
      ]
    },
    {
      "cell_type": "code",
      "execution_count": 8,
      "metadata": {
        "deletable": false,
        "editable": false,
        "nbgrader": {
          "cell_type": "code",
          "checksum": "d8d9355fc55599cd2ad34fdd140baac1",
          "grade": false,
          "grade_id": "cell-f01cb0e8645e7c07",
          "locked": true,
          "schema_version": 3,
          "solution": false,
          "task": false
        },
        "id": "r_VRqysEdvIT",
        "outputId": "3afc41c2-05e2-406f-9e7d-b20239a7c12c",
        "colab": {
          "base_uri": "https://localhost:8080/",
          "height": 916
        }
      },
      "outputs": [
        {
          "output_type": "display_data",
          "data": {
            "text/plain": [
              "<folium.folium.Map at 0x7f6e08a07fa0>"
            ],
            "text/html": [
              "<div style=\"width:100%;\"><div style=\"position:relative;width:100%;height:0;padding-bottom:60%;\"><span style=\"color:#565656\">Make this Notebook Trusted to load map: File -> Trust Notebook</span><iframe srcdoc=\"&lt;!DOCTYPE html&gt;\n",
              "&lt;html&gt;\n",
              "&lt;head&gt;\n",
              "    \n",
              "    &lt;meta http-equiv=&quot;content-type&quot; content=&quot;text/html; charset=UTF-8&quot; /&gt;\n",
              "    \n",
              "        &lt;script&gt;\n",
              "            L_NO_TOUCH = false;\n",
              "            L_DISABLE_3D = false;\n",
              "        &lt;/script&gt;\n",
              "    \n",
              "    &lt;style&gt;html, body {width: 100%;height: 100%;margin: 0;padding: 0;}&lt;/style&gt;\n",
              "    &lt;style&gt;#map {position:absolute;top:0;bottom:0;right:0;left:0;}&lt;/style&gt;\n",
              "    &lt;script src=&quot;https://cdn.jsdelivr.net/npm/leaflet@1.9.3/dist/leaflet.js&quot;&gt;&lt;/script&gt;\n",
              "    &lt;script src=&quot;https://code.jquery.com/jquery-1.12.4.min.js&quot;&gt;&lt;/script&gt;\n",
              "    &lt;script src=&quot;https://cdn.jsdelivr.net/npm/bootstrap@5.2.2/dist/js/bootstrap.bundle.min.js&quot;&gt;&lt;/script&gt;\n",
              "    &lt;script src=&quot;https://cdnjs.cloudflare.com/ajax/libs/Leaflet.awesome-markers/2.0.2/leaflet.awesome-markers.js&quot;&gt;&lt;/script&gt;\n",
              "    &lt;link rel=&quot;stylesheet&quot; href=&quot;https://cdn.jsdelivr.net/npm/leaflet@1.9.3/dist/leaflet.css&quot;/&gt;\n",
              "    &lt;link rel=&quot;stylesheet&quot; href=&quot;https://cdn.jsdelivr.net/npm/bootstrap@5.2.2/dist/css/bootstrap.min.css&quot;/&gt;\n",
              "    &lt;link rel=&quot;stylesheet&quot; href=&quot;https://netdna.bootstrapcdn.com/bootstrap/3.0.0/css/bootstrap.min.css&quot;/&gt;\n",
              "    &lt;link rel=&quot;stylesheet&quot; href=&quot;https://cdn.jsdelivr.net/npm/@fortawesome/fontawesome-free@6.2.0/css/all.min.css&quot;/&gt;\n",
              "    &lt;link rel=&quot;stylesheet&quot; href=&quot;https://cdnjs.cloudflare.com/ajax/libs/Leaflet.awesome-markers/2.0.2/leaflet.awesome-markers.css&quot;/&gt;\n",
              "    &lt;link rel=&quot;stylesheet&quot; href=&quot;https://cdn.jsdelivr.net/gh/python-visualization/folium/folium/templates/leaflet.awesome.rotate.min.css&quot;/&gt;\n",
              "    \n",
              "            &lt;meta name=&quot;viewport&quot; content=&quot;width=device-width,\n",
              "                initial-scale=1.0, maximum-scale=1.0, user-scalable=no&quot; /&gt;\n",
              "            &lt;style&gt;\n",
              "                #map_90aa43a4fefb52acc72791fd7fb30cfb {\n",
              "                    position: relative;\n",
              "                    width: 100.0%;\n",
              "                    height: 500.0px;\n",
              "                    left: 0.0%;\n",
              "                    top: 0.0%;\n",
              "                }\n",
              "                .leaflet-container { font-size: 1rem; }\n",
              "            &lt;/style&gt;\n",
              "        \n",
              "&lt;/head&gt;\n",
              "&lt;body&gt;\n",
              "    \n",
              "    \n",
              "            &lt;div class=&quot;folium-map&quot; id=&quot;map_90aa43a4fefb52acc72791fd7fb30cfb&quot; &gt;&lt;/div&gt;\n",
              "        \n",
              "&lt;/body&gt;\n",
              "&lt;script&gt;\n",
              "    \n",
              "    \n",
              "            var map_90aa43a4fefb52acc72791fd7fb30cfb = L.map(\n",
              "                &quot;map_90aa43a4fefb52acc72791fd7fb30cfb&quot;,\n",
              "                {\n",
              "                    center: [41.9164, -84.0158],\n",
              "                    crs: L.CRS.EPSG3857,\n",
              "                    zoom: 9,\n",
              "                    zoomControl: true,\n",
              "                    preferCanvas: false,\n",
              "                }\n",
              "            );\n",
              "\n",
              "            \n",
              "\n",
              "        \n",
              "    \n",
              "            var tile_layer_7c0ad6640a9288625cd1c03dc8b2fcf1 = L.tileLayer(\n",
              "                &quot;https://{s}.tile.openstreetmap.org/{z}/{x}/{y}.png&quot;,\n",
              "                {&quot;attribution&quot;: &quot;Data by \\u0026copy; \\u003ca target=\\&quot;_blank\\&quot; href=\\&quot;http://openstreetmap.org\\&quot;\\u003eOpenStreetMap\\u003c/a\\u003e, under \\u003ca target=\\&quot;_blank\\&quot; href=\\&quot;http://www.openstreetmap.org/copyright\\&quot;\\u003eODbL\\u003c/a\\u003e.&quot;, &quot;detectRetina&quot;: false, &quot;maxNativeZoom&quot;: 18, &quot;maxZoom&quot;: 18, &quot;minZoom&quot;: 0, &quot;noWrap&quot;: false, &quot;opacity&quot;: 1, &quot;subdomains&quot;: &quot;abc&quot;, &quot;tms&quot;: false}\n",
              "            ).addTo(map_90aa43a4fefb52acc72791fd7fb30cfb);\n",
              "        \n",
              "    \n",
              "            var marker_ab16fb19396d68ddeafb813ecc5712a3 = L.marker(\n",
              "                [41.9164, -84.0158],\n",
              "                {}\n",
              "            ).addTo(map_90aa43a4fefb52acc72791fd7fb30cfb);\n",
              "        \n",
              "    \n",
              "            var marker_e12d28ae1357e6a4dc3c5fd2198acd07 = L.marker(\n",
              "                [42.2875, -83.7611],\n",
              "                {}\n",
              "            ).addTo(map_90aa43a4fefb52acc72791fd7fb30cfb);\n",
              "        \n",
              "    \n",
              "            var marker_ba5bf6c85cf3de9ce46ff2dcaaf3f5e7 = L.marker(\n",
              "                [42.2417, -83.6933],\n",
              "                {}\n",
              "            ).addTo(map_90aa43a4fefb52acc72791fd7fb30cfb);\n",
              "        \n",
              "    \n",
              "            var marker_694070b000f43ddf6f885ea97c289c76 = L.marker(\n",
              "                [42.2947, -83.7108],\n",
              "                {}\n",
              "            ).addTo(map_90aa43a4fefb52acc72791fd7fb30cfb);\n",
              "        \n",
              "    \n",
              "            var marker_8288dc55e5765be74513091211a11a0d = L.marker(\n",
              "                [41.84, -83.8608],\n",
              "                {}\n",
              "            ).addTo(map_90aa43a4fefb52acc72791fd7fb30cfb);\n",
              "        \n",
              "    \n",
              "            var marker_a612b17b7acfb798f7fd78fa12f6900c = L.marker(\n",
              "                [42.0636, -83.4358],\n",
              "                {}\n",
              "            ).addTo(map_90aa43a4fefb52acc72791fd7fb30cfb);\n",
              "        \n",
              "    \n",
              "            var marker_2abd2e55179eef48fee31cc5400c3a0b = L.marker(\n",
              "                [42.3264, -84.0133],\n",
              "                {}\n",
              "            ).addTo(map_90aa43a4fefb52acc72791fd7fb30cfb);\n",
              "        \n",
              "    \n",
              "            var marker_305d4e769b33ec4e48dc93eac2cf76ed = L.marker(\n",
              "                [41.9553, -83.6489],\n",
              "                {}\n",
              "            ).addTo(map_90aa43a4fefb52acc72791fd7fb30cfb);\n",
              "        \n",
              "    \n",
              "            var marker_4032f91c0898227f0bc97b1e862a174b = L.marker(\n",
              "                [42.4344, -83.9858],\n",
              "                {}\n",
              "            ).addTo(map_90aa43a4fefb52acc72791fd7fb30cfb);\n",
              "        \n",
              "    \n",
              "            var marker_28dbb7dd20d056b071c503c3915670eb = L.marker(\n",
              "                [42.1508, -84.0236],\n",
              "                {}\n",
              "            ).addTo(map_90aa43a4fefb52acc72791fd7fb30cfb);\n",
              "        \n",
              "    \n",
              "            var marker_d775853ca353f9c3517db7d33a0a0054 = L.marker(\n",
              "                [42.0664, -83.6186],\n",
              "                {}\n",
              "            ).addTo(map_90aa43a4fefb52acc72791fd7fb30cfb);\n",
              "        \n",
              "    \n",
              "            var marker_bcf363e65c6809096f4e05cf086bc2b4 = L.marker(\n",
              "                [42.0811, -83.6769],\n",
              "                {}\n",
              "            ).addTo(map_90aa43a4fefb52acc72791fd7fb30cfb);\n",
              "        \n",
              "    \n",
              "            var marker_60a16615c1777096465354c5493b81da = L.marker(\n",
              "                [41.9069, -83.4158],\n",
              "                {}\n",
              "            ).addTo(map_90aa43a4fefb52acc72791fd7fb30cfb);\n",
              "        \n",
              "    \n",
              "            var marker_a2e65f40dca6c19b73c76534cff2d5eb = L.marker(\n",
              "                [41.9497, -83.28],\n",
              "                {}\n",
              "            ).addTo(map_90aa43a4fefb52acc72791fd7fb30cfb);\n",
              "        \n",
              "    \n",
              "            var marker_f69bc0a855a33d3ff0124a2d09ffe50e = L.marker(\n",
              "                [42.1611, -83.7819],\n",
              "                {}\n",
              "            ).addTo(map_90aa43a4fefb52acc72791fd7fb30cfb);\n",
              "        \n",
              "    \n",
              "            var marker_ea7cfeafaddbe27921edaf5400b258a0 = L.marker(\n",
              "                [42.1236, -83.82],\n",
              "                {}\n",
              "            ).addTo(map_90aa43a4fefb52acc72791fd7fb30cfb);\n",
              "        \n",
              "    \n",
              "            var marker_c17f491f4a0112120f7944bab0498917 = L.marker(\n",
              "                [41.8069, -83.5831],\n",
              "                {}\n",
              "            ).addTo(map_90aa43a4fefb52acc72791fd7fb30cfb);\n",
              "        \n",
              "    \n",
              "            var marker_75a39994772a942d7833b9435b1487bf = L.marker(\n",
              "                [42.0028, -83.9336],\n",
              "                {}\n",
              "            ).addTo(map_90aa43a4fefb52acc72791fd7fb30cfb);\n",
              "        \n",
              "    \n",
              "            var marker_dc3ebb22bff05a5db0180b35ae2d38b4 = L.marker(\n",
              "                [42.0283, -84.1108],\n",
              "                {}\n",
              "            ).addTo(map_90aa43a4fefb52acc72791fd7fb30cfb);\n",
              "        \n",
              "    \n",
              "            var marker_9e72f70c3cbb92ced50252676f7bd0e1 = L.marker(\n",
              "                [42.4356, -83.7831],\n",
              "                {}\n",
              "            ).addTo(map_90aa43a4fefb52acc72791fd7fb30cfb);\n",
              "        \n",
              "    \n",
              "            var marker_d3684bfba9f8ffb8ffd2b23d1dcc0cab = L.marker(\n",
              "                [41.5631, -83.4764],\n",
              "                {}\n",
              "            ).addTo(map_90aa43a4fefb52acc72791fd7fb30cfb);\n",
              "        \n",
              "    \n",
              "            var marker_258224a32f7faa0ec0ac44b5cd0d1928 = L.marker(\n",
              "                [42.2667, -84.4667],\n",
              "                {}\n",
              "            ).addTo(map_90aa43a4fefb52acc72791fd7fb30cfb);\n",
              "        \n",
              "    \n",
              "            var marker_5f08f5a725a9a2c0101bd77fd792e3dd = L.marker(\n",
              "                [42.2333, -83.5333],\n",
              "                {}\n",
              "            ).addTo(map_90aa43a4fefb52acc72791fd7fb30cfb);\n",
              "        \n",
              "    \n",
              "            var marker_872a8ed5ce272e5ad811f444fc520969 = L.marker(\n",
              "                [42.2228, -83.7444],\n",
              "                {}\n",
              "            ).addTo(map_90aa43a4fefb52acc72791fd7fb30cfb);\n",
              "        \n",
              "&lt;/script&gt;\n",
              "&lt;/html&gt;\" style=\"position:absolute;width:100%;height:100%;left:0;top:0;border:none !important;\" allowfullscreen webkitallowfullscreen mozallowfullscreen></iframe></div></div>"
            ]
          },
          "metadata": {}
        }
      ],
      "source": [
        "#  I'll be using the folium package to render the data into a map in Jupyter.\n",
        "\n",
        "import folium\n",
        "import pandas as pd\n",
        "\n",
        "# get the location information for this dataset\n",
        "df = pd.read_csv('BinSize_d400.csv')\n",
        "station_locations_by_hash = df[df['hash'] == 'fb441e62df2d58994928907a91895ec62c2c42e6cd075c2700843b89']\n",
        "\n",
        "# get longitude and lattitude to plot\n",
        "lons = station_locations_by_hash['LONGITUDE'].tolist()\n",
        "lats = station_locations_by_hash['LATITUDE'].tolist()\n",
        "\n",
        "# plot on a beautiful folium map\n",
        "my_map = folium.Map(location = [lats[0], lons[0]], height = 500,  zoom_start = 9)\n",
        "for lat, lon in zip(lats, lons):\n",
        "    folium.Marker([lat, lon]).add_to(my_map)\n",
        "\n",
        "# render map in Jupyter\n",
        "display(my_map)"
      ]
    },
    {
      "cell_type": "markdown",
      "metadata": {
        "deletable": false,
        "editable": false,
        "nbgrader": {
          "cell_type": "markdown",
          "checksum": "d2ee9d3c5ac53844b3ed48aa157f6204",
          "grade": false,
          "grade_id": "cell-695e4689bc5509b6",
          "locked": true,
          "schema_version": 3,
          "solution": false,
          "task": false
        },
        "id": "o1UwOaYGdvIU"
      },
      "source": [
        "## Step 1\n",
        "Load the dataset and transform the data into Celsius (refer to documentation) then extract all of the rows which have minimum or maximum temperatures.\n",
        "\n",
        "__hint: when I did this step I had two DataFrame objects, each with ~80,000 entries in it__"
      ]
    },
    {
      "cell_type": "code",
      "execution_count": 9,
      "metadata": {
        "deletable": false,
        "editable": false,
        "nbgrader": {
          "cell_type": "code",
          "checksum": "dbfe393a2232a653ebbd81e518237a83",
          "grade": false,
          "grade_id": "cell-f508059dd84e9b7c",
          "locked": true,
          "schema_version": 3,
          "solution": false,
          "task": false
        },
        "id": "oC5QQcuNdvIU",
        "colab": {
          "base_uri": "https://localhost:8080/",
          "height": 206
        },
        "outputId": "2b390f98-87a1-43c9-a087-1c504b3ab638"
      },
      "outputs": [
        {
          "output_type": "execute_result",
          "data": {
            "text/plain": [
              "            ID        Date Element  Data_Value\n",
              "0  USW00094889  2014-11-12    TMAX          22\n",
              "1  USC00208972  2009-04-29    TMIN          56\n",
              "2  USC00200032  2008-05-26    TMAX         278\n",
              "3  USC00205563  2005-11-11    TMAX         139\n",
              "4  USC00200230  2014-02-27    TMAX        -106"
            ],
            "text/html": [
              "\n",
              "  <div id=\"df-1e819c0d-5237-4271-9a8d-42cee254d8c1\">\n",
              "    <div class=\"colab-df-container\">\n",
              "      <div>\n",
              "<style scoped>\n",
              "    .dataframe tbody tr th:only-of-type {\n",
              "        vertical-align: middle;\n",
              "    }\n",
              "\n",
              "    .dataframe tbody tr th {\n",
              "        vertical-align: top;\n",
              "    }\n",
              "\n",
              "    .dataframe thead th {\n",
              "        text-align: right;\n",
              "    }\n",
              "</style>\n",
              "<table border=\"1\" class=\"dataframe\">\n",
              "  <thead>\n",
              "    <tr style=\"text-align: right;\">\n",
              "      <th></th>\n",
              "      <th>ID</th>\n",
              "      <th>Date</th>\n",
              "      <th>Element</th>\n",
              "      <th>Data_Value</th>\n",
              "    </tr>\n",
              "  </thead>\n",
              "  <tbody>\n",
              "    <tr>\n",
              "      <th>0</th>\n",
              "      <td>USW00094889</td>\n",
              "      <td>2014-11-12</td>\n",
              "      <td>TMAX</td>\n",
              "      <td>22</td>\n",
              "    </tr>\n",
              "    <tr>\n",
              "      <th>1</th>\n",
              "      <td>USC00208972</td>\n",
              "      <td>2009-04-29</td>\n",
              "      <td>TMIN</td>\n",
              "      <td>56</td>\n",
              "    </tr>\n",
              "    <tr>\n",
              "      <th>2</th>\n",
              "      <td>USC00200032</td>\n",
              "      <td>2008-05-26</td>\n",
              "      <td>TMAX</td>\n",
              "      <td>278</td>\n",
              "    </tr>\n",
              "    <tr>\n",
              "      <th>3</th>\n",
              "      <td>USC00205563</td>\n",
              "      <td>2005-11-11</td>\n",
              "      <td>TMAX</td>\n",
              "      <td>139</td>\n",
              "    </tr>\n",
              "    <tr>\n",
              "      <th>4</th>\n",
              "      <td>USC00200230</td>\n",
              "      <td>2014-02-27</td>\n",
              "      <td>TMAX</td>\n",
              "      <td>-106</td>\n",
              "    </tr>\n",
              "  </tbody>\n",
              "</table>\n",
              "</div>\n",
              "      <button class=\"colab-df-convert\" onclick=\"convertToInteractive('df-1e819c0d-5237-4271-9a8d-42cee254d8c1')\"\n",
              "              title=\"Convert this dataframe to an interactive table.\"\n",
              "              style=\"display:none;\">\n",
              "        \n",
              "  <svg xmlns=\"http://www.w3.org/2000/svg\" height=\"24px\"viewBox=\"0 0 24 24\"\n",
              "       width=\"24px\">\n",
              "    <path d=\"M0 0h24v24H0V0z\" fill=\"none\"/>\n",
              "    <path d=\"M18.56 5.44l.94 2.06.94-2.06 2.06-.94-2.06-.94-.94-2.06-.94 2.06-2.06.94zm-11 1L8.5 8.5l.94-2.06 2.06-.94-2.06-.94L8.5 2.5l-.94 2.06-2.06.94zm10 10l.94 2.06.94-2.06 2.06-.94-2.06-.94-.94-2.06-.94 2.06-2.06.94z\"/><path d=\"M17.41 7.96l-1.37-1.37c-.4-.4-.92-.59-1.43-.59-.52 0-1.04.2-1.43.59L10.3 9.45l-7.72 7.72c-.78.78-.78 2.05 0 2.83L4 21.41c.39.39.9.59 1.41.59.51 0 1.02-.2 1.41-.59l7.78-7.78 2.81-2.81c.8-.78.8-2.07 0-2.86zM5.41 20L4 18.59l7.72-7.72 1.47 1.35L5.41 20z\"/>\n",
              "  </svg>\n",
              "      </button>\n",
              "      \n",
              "  <style>\n",
              "    .colab-df-container {\n",
              "      display:flex;\n",
              "      flex-wrap:wrap;\n",
              "      gap: 12px;\n",
              "    }\n",
              "\n",
              "    .colab-df-convert {\n",
              "      background-color: #E8F0FE;\n",
              "      border: none;\n",
              "      border-radius: 50%;\n",
              "      cursor: pointer;\n",
              "      display: none;\n",
              "      fill: #1967D2;\n",
              "      height: 32px;\n",
              "      padding: 0 0 0 0;\n",
              "      width: 32px;\n",
              "    }\n",
              "\n",
              "    .colab-df-convert:hover {\n",
              "      background-color: #E2EBFA;\n",
              "      box-shadow: 0px 1px 2px rgba(60, 64, 67, 0.3), 0px 1px 3px 1px rgba(60, 64, 67, 0.15);\n",
              "      fill: #174EA6;\n",
              "    }\n",
              "\n",
              "    [theme=dark] .colab-df-convert {\n",
              "      background-color: #3B4455;\n",
              "      fill: #D2E3FC;\n",
              "    }\n",
              "\n",
              "    [theme=dark] .colab-df-convert:hover {\n",
              "      background-color: #434B5C;\n",
              "      box-shadow: 0px 1px 3px 1px rgba(0, 0, 0, 0.15);\n",
              "      filter: drop-shadow(0px 1px 2px rgba(0, 0, 0, 0.3));\n",
              "      fill: #FFFFFF;\n",
              "    }\n",
              "  </style>\n",
              "\n",
              "      <script>\n",
              "        const buttonEl =\n",
              "          document.querySelector('#df-1e819c0d-5237-4271-9a8d-42cee254d8c1 button.colab-df-convert');\n",
              "        buttonEl.style.display =\n",
              "          google.colab.kernel.accessAllowed ? 'block' : 'none';\n",
              "\n",
              "        async function convertToInteractive(key) {\n",
              "          const element = document.querySelector('#df-1e819c0d-5237-4271-9a8d-42cee254d8c1');\n",
              "          const dataTable =\n",
              "            await google.colab.kernel.invokeFunction('convertToInteractive',\n",
              "                                                     [key], {});\n",
              "          if (!dataTable) return;\n",
              "\n",
              "          const docLinkHtml = 'Like what you see? Visit the ' +\n",
              "            '<a target=\"_blank\" href=https://colab.research.google.com/notebooks/data_table.ipynb>data table notebook</a>'\n",
              "            + ' to learn more about interactive tables.';\n",
              "          element.innerHTML = '';\n",
              "          dataTable['output_type'] = 'display_data';\n",
              "          await google.colab.output.renderOutput(dataTable, element);\n",
              "          const docLink = document.createElement('div');\n",
              "          docLink.innerHTML = docLinkHtml;\n",
              "          element.appendChild(docLink);\n",
              "        }\n",
              "      </script>\n",
              "    </div>\n",
              "  </div>\n",
              "  "
            ]
          },
          "metadata": {},
          "execution_count": 9
        }
      ],
      "source": [
        "import pandas as pd\n",
        "df = pd.read_csv('fb441e62df2d58994928907a91895ec62c2c42e6cd075c2700843b89.csv')\n",
        "df.head()"
      ]
    },
    {
      "cell_type": "code",
      "execution_count": 10,
      "metadata": {
        "id": "g8_qjmRGdvIV",
        "colab": {
          "base_uri": "https://localhost:8080/"
        },
        "outputId": "4651b6b6-e750-4a86-cbe4-e35c84da2cae"
      },
      "outputs": [
        {
          "output_type": "stream",
          "name": "stdout",
          "text": [
            "                 ID        Date Element  Data_Value\n",
            "0       USW00094889  2014-11-12    TMAX         2.2\n",
            "1       USC00208972  2009-04-29    TMIN         5.6\n",
            "2       USC00200032  2008-05-26    TMAX        27.8\n",
            "3       USC00205563  2005-11-11    TMAX        13.9\n",
            "4       USC00200230  2014-02-27    TMAX       -10.6\n",
            "...             ...         ...     ...         ...\n",
            "165080  USC00205822  2015-06-09    TMAX        25.6\n",
            "165081  USC00205822  2009-10-06    TMAX        16.7\n",
            "165082  USC00205050  2014-07-14    TMAX        28.3\n",
            "165083  USC00200230  2006-11-29    TMIN        11.7\n",
            "165084  USC00207312  2006-09-04    TMIN        11.1\n",
            "\n",
            "[165085 rows x 4 columns]\n",
            "                 ID        Date Element  Data_Value\n",
            "0       USW00094889  2014-11-12    TMAX         2.2\n",
            "2       USC00200032  2008-05-26    TMAX        27.8\n",
            "3       USC00205563  2005-11-11    TMAX        13.9\n",
            "4       USC00200230  2014-02-27    TMAX       -10.6\n",
            "5       USW00014833  2010-10-01    TMAX        19.4\n",
            "...             ...         ...     ...         ...\n",
            "165074  USW00094889  2009-07-09    TMAX        26.1\n",
            "165076  USC00205050  2013-09-29    TMAX        26.1\n",
            "165080  USC00205822  2015-06-09    TMAX        25.6\n",
            "165081  USC00205822  2009-10-06    TMAX        16.7\n",
            "165082  USC00205050  2014-07-14    TMAX        28.3\n",
            "\n",
            "[83063 rows x 4 columns]\n",
            "<class 'pandas.core.frame.DataFrame'>\n",
            "Int64Index: 82022 entries, 1 to 165084\n",
            "Data columns (total 4 columns):\n",
            " #   Column      Non-Null Count  Dtype  \n",
            "---  ------      --------------  -----  \n",
            " 0   ID          82022 non-null  object \n",
            " 1   Date        82022 non-null  object \n",
            " 2   Element     82022 non-null  object \n",
            " 3   Data_Value  82022 non-null  float64\n",
            "dtypes: float64(1), object(3)\n",
            "memory usage: 3.1+ MB\n",
            "None\n"
          ]
        }
      ],
      "source": [
        "# In this code cell, transform the Data_Value column\n",
        "df_C = df[:]\n",
        "df_C['Data_Value'] = df_C['Data_Value']/10\n",
        "print(df_C)\n",
        "df_C_TMAX = df_C[df_C['Element'] == 'TMAX']\n",
        "print(df_C_TMAX)\n",
        "df_C_TMIN = df_C[df_C['Element'] == 'TMIN']\n",
        "print(df_C_TMIN.info())"
      ]
    },
    {
      "cell_type": "markdown",
      "metadata": {
        "deletable": false,
        "editable": false,
        "nbgrader": {
          "cell_type": "markdown",
          "checksum": "76f2478088402765c38ed2b9db771916",
          "grade": false,
          "grade_id": "cell-c5718635688cb408",
          "locked": true,
          "schema_version": 3,
          "solution": false,
          "task": false
        },
        "id": "iv6NPw2KdvIV"
      },
      "source": [
        "## Step 2\n",
        "In order to visualize the data we would plot the min and max data for each day of the year between the years 2005 and 2014 across all weather stations. But we also need to find out when the min or max temperature in 2015 falls below the min or rises above the max for the previous decade.\n",
        "\n",
        "If you did step 1 you have two Series objects with min and max times for the years 2005 through 2015. You can use Pandas `groupby` to create max and min temperature Series objects across all weather stations for each day of these years, and you can deal with the records for February 29 (the leap year) by dropping them.\n",
        "\n",
        "__hint: when I finished this step, I had two DataFrame objects, each with exactly 4015 observations in them__"
      ]
    },
    {
      "cell_type": "code",
      "execution_count": 11,
      "metadata": {
        "id": "vm7qlkoVdvIW",
        "colab": {
          "base_uri": "https://localhost:8080/"
        },
        "outputId": "e164a01e-7997-47fc-c89c-bc33aceb608c"
      },
      "outputs": [
        {
          "output_type": "stream",
          "name": "stdout",
          "text": [
            "            Data_Value\n",
            "Date                  \n",
            "2005-01-01        15.6\n",
            "2005-01-02        13.9\n",
            "2005-01-03        13.3\n",
            "2005-01-04         3.9\n",
            "2005-01-05         3.3\n",
            "...                ...\n",
            "2015-12-27         8.3\n",
            "2015-12-28         6.1\n",
            "2015-12-29        10.0\n",
            "2015-12-30         6.7\n",
            "2015-12-31         1.7\n",
            "\n",
            "[4015 rows x 1 columns]\n",
            "            Data_Value\n",
            "Date                  \n",
            "2005-01-01        -5.6\n",
            "2005-01-02        -5.6\n",
            "2005-01-03         0.0\n",
            "2005-01-04        -3.9\n",
            "2005-01-05        -9.4\n",
            "...                ...\n",
            "2015-12-27        -0.6\n",
            "2015-12-28        -3.9\n",
            "2015-12-29        -3.9\n",
            "2015-12-30        -2.2\n",
            "2015-12-31        -5.6\n",
            "\n",
            "[4015 rows x 1 columns]\n"
          ]
        }
      ],
      "source": [
        "# create a DataFrame of maximum temperature by date\n",
        "df_C_TMAX_gD = pd.DataFrame(data = df_C_TMAX.groupby(['Date'])['Data_Value'].max().drop(['2008-02-29','2012-02-29'])) \n",
        "print(df_C_TMAX_gD)\n",
        "# create a DataFrame of minimum temperatures by date\n",
        "df_C_TMIN_gD = pd.DataFrame(data = df_C_TMIN.groupby(['Date'])['Data_Value'].min().drop(['2008-02-29','2012-02-29']))\n",
        "print(df_C_TMIN_gD)"
      ]
    },
    {
      "cell_type": "markdown",
      "metadata": {
        "deletable": false,
        "editable": false,
        "nbgrader": {
          "cell_type": "markdown",
          "checksum": "0edac9c92f1b79eb9b21f302a3259c5e",
          "grade": false,
          "grade_id": "cell-d3a1a2647a47fe31",
          "locked": true,
          "schema_version": 3,
          "solution": false,
          "task": false
        },
        "id": "ydpX85OZdvIW"
      },
      "source": [
        "## Step 3\n",
        "Now that you have grouped the daily max and min temperatures for each day of the years 2005 through 2015, you can separate out the data for 2015. Then you can use the Pandas `groupby` function to find the max and min of the temperature data for each __day of the year__ for the 2005-2014 data.\n",
        "\n",
        "__hint: at the end of this step I had two DataFrames, one of maximum and the other of minimum values, which each had 365 observations in them. I also had another pair of similar DataFrames but only for the year 2015.__"
      ]
    },
    {
      "cell_type": "code",
      "execution_count": 12,
      "metadata": {
        "id": "irieSRapdvIW"
      },
      "outputs": [],
      "source": [
        "df_C_TMAX_gD.loc[:, 'Y'] = df_C_TMAX_gD.index.str.split('-').str[0]\n",
        "df_C_TMAX_gD.loc[:, 'M-D'] = df_C_TMAX_gD.index.str.split('-').str[1] + '-' + df_C_TMAX_gD.index.str.split('-').str[2]\n",
        "df_C_TMIN_gD.loc[:, 'Y'] = df_C_TMIN_gD.index.str.split('-').str[0]\n",
        "df_C_TMIN_gD.loc[:, 'M-D'] = df_C_TMIN_gD.index.str.split('-').str[1] + '-' + df_C_TMIN_gD.index.str.split('-').str[2]"
      ]
    },
    {
      "cell_type": "code",
      "execution_count": 13,
      "metadata": {
        "id": "9cmatl8TdvIW",
        "colab": {
          "base_uri": "https://localhost:8080/"
        },
        "outputId": "e0f055d2-dfbe-42d1-b115-9f9ac5df0fa7"
      },
      "outputs": [
        {
          "output_type": "stream",
          "name": "stdout",
          "text": [
            "            Data_Value     Y    M-D\n",
            "Date                               \n",
            "2005-01-01        15.6  2005  01-01\n",
            "2005-01-02        13.9  2005  01-02\n",
            "2005-01-03        13.3  2005  01-03\n",
            "2005-01-04         3.9  2005  01-04\n",
            "2005-01-05         3.3  2005  01-05\n",
            "...                ...   ...    ...\n",
            "2015-12-27         8.3  2015  12-27\n",
            "2015-12-28         6.1  2015  12-28\n",
            "2015-12-29        10.0  2015  12-29\n",
            "2015-12-30         6.7  2015  12-30\n",
            "2015-12-31         1.7  2015  12-31\n",
            "\n",
            "[4015 rows x 3 columns]\n",
            "            Data_Value     Y    M-D\n",
            "Date                               \n",
            "2005-01-01        -5.6  2005  01-01\n",
            "2005-01-02        -5.6  2005  01-02\n",
            "2005-01-03         0.0  2005  01-03\n",
            "2005-01-04        -3.9  2005  01-04\n",
            "2005-01-05        -9.4  2005  01-05\n",
            "...                ...   ...    ...\n",
            "2015-12-27        -0.6  2015  12-27\n",
            "2015-12-28        -3.9  2015  12-28\n",
            "2015-12-29        -3.9  2015  12-29\n",
            "2015-12-30        -2.2  2015  12-30\n",
            "2015-12-31        -5.6  2015  12-31\n",
            "\n",
            "[4015 rows x 3 columns]\n"
          ]
        }
      ],
      "source": [
        "print(df_C_TMAX_gD)\n",
        "print(df_C_TMIN_gD)"
      ]
    },
    {
      "cell_type": "code",
      "execution_count": 14,
      "metadata": {
        "id": "5lIDJSzJdvIX",
        "colab": {
          "base_uri": "https://localhost:8080/"
        },
        "outputId": "ec8fd861-2b11-4412-bc37-4f6c39292208"
      },
      "outputs": [
        {
          "output_type": "stream",
          "name": "stdout",
          "text": [
            "M-D\n",
            "01-01    15.6\n",
            "01-02    13.9\n",
            "01-03    13.3\n",
            "01-04    10.6\n",
            "01-05    12.8\n",
            "         ... \n",
            "12-27    18.9\n",
            "12-28    19.4\n",
            "12-29    12.8\n",
            "12-30    11.7\n",
            "12-31    13.9\n",
            "Name: Data_Value, Length: 365, dtype: float64\n",
            "M-D\n",
            "01-01   -16.0\n",
            "01-02   -26.7\n",
            "01-03   -26.7\n",
            "01-04   -26.1\n",
            "01-05   -15.0\n",
            "         ... \n",
            "12-27   -13.8\n",
            "12-28   -16.6\n",
            "12-29   -15.0\n",
            "12-30   -14.4\n",
            "12-31   -15.0\n",
            "Name: Data_Value, Length: 365, dtype: float64\n",
            "M-D\n",
            "01-01     1.1\n",
            "01-02     3.9\n",
            "01-03     3.9\n",
            "01-04     4.4\n",
            "01-05     2.8\n",
            "         ... \n",
            "12-27     8.3\n",
            "12-28     6.1\n",
            "12-29    10.0\n",
            "12-30     6.7\n",
            "12-31     1.7\n",
            "Name: Data_Value, Length: 365, dtype: float64\n",
            "M-D\n",
            "01-01   -13.3\n",
            "01-02   -12.2\n",
            "01-03    -6.7\n",
            "01-04    -8.8\n",
            "01-05   -15.5\n",
            "         ... \n",
            "12-27    -0.6\n",
            "12-28    -3.9\n",
            "12-29    -3.9\n",
            "12-30    -2.2\n",
            "12-31    -5.6\n",
            "Name: Data_Value, Length: 365, dtype: float64\n"
          ]
        }
      ],
      "source": [
        "# calculate the minimum and maximum values for the day of the year for 2005 through 2014\n",
        "df_C_TMAX_gD_2005_2014 = pd.DataFrame(data = df_C_TMAX_gD[:'2014-12-31'].reset_index(drop=True).groupby(['M-D'])['Data_Value'].max())['Data_Value']\n",
        "print(df_C_TMAX_gD_2005_2014)\n",
        "df_C_TMIN_gD_2005_2014 = pd.DataFrame(data = df_C_TMIN_gD[:'2014-12-31'].reset_index(drop=True).groupby(['M-D'])['Data_Value'].min())['Data_Value']\n",
        "print(df_C_TMIN_gD_2005_2014)\n",
        "# calculate the minimum and maximum values for the years 2015\n",
        "df_C_TMAX_gD_2015 = df_C_TMAX_gD['2015-01-01':].set_index(['M-D'])['Data_Value']\n",
        "print(df_C_TMAX_gD_2015)\n",
        "df_C_TMIN_gD_2015 = df_C_TMIN_gD['2015-01-01':].set_index(['M-D'])['Data_Value']\n",
        "print(df_C_TMIN_gD_2015)"
      ]
    },
    {
      "cell_type": "markdown",
      "metadata": {
        "deletable": false,
        "editable": false,
        "nbgrader": {
          "cell_type": "markdown",
          "checksum": "d7de066a05b833f7ded9353ee2215ba8",
          "grade": false,
          "grade_id": "cell-25711f5fdbe49515",
          "locked": true,
          "schema_version": 3,
          "solution": false,
          "task": false
        },
        "id": "MhkYu6HZdvIX"
      },
      "source": [
        "## Step 4\n",
        "Now it's time to plot! You need to explore matplotlib in order to plot line graphs of the min and max temperatures for the years 2005 through 2014 and to scatter plot __only__ the daily 2015 temperatures that exceeded those values."
      ]
    },
    {
      "cell_type": "code",
      "execution_count": 15,
      "metadata": {
        "id": "bq80WtZTdvIX",
        "colab": {
          "base_uri": "https://localhost:8080/",
          "height": 641
        },
        "outputId": "ec57f4db-0fb7-48ee-d6a1-022cab4d5073"
      },
      "outputs": [
        {
          "output_type": "display_data",
          "data": {
            "text/plain": [
              "<Figure size 800x700 with 1 Axes>"
            ],
            "image/png": "[encoded data removed]"
          },
          "metadata": {}
        }
      ],
      "source": [
        "import numpy as np\n",
        "import matplotlib.pyplot as plt\n",
        "from calendar import month_abbr\n",
        "\n",
        "# put your plotting code here!\n",
        "f, ax= plt.subplots(1, 1, figsize=(8, 7))\n",
        "plt.plot(df_C_TMAX_gD_2005_2014, 'r',\n",
        "         label = 'Highest temperature of 2005 - 2004',\n",
        "         alpha = .5)\n",
        "plt.plot(df_C_TMIN_gD_2005_2014, 'b',\n",
        "         label = 'Lowest temperature of 2005 - 2004',\n",
        "         alpha = .5)\n",
        "plt.scatter(df_C_TMAX_gD_2015[df_C_TMAX_gD_2015 > df_C_TMAX_gD_2005_2014].index,\n",
        "            df_C_TMAX_gD_2015[df_C_TMAX_gD_2015 > df_C_TMAX_gD_2005_2014],\n",
        "            color = 'r',\n",
        "            marker = '*',\n",
        "            label='Record highest temperature of 2015')\n",
        "plt.scatter(df_C_TMIN_gD_2015[df_C_TMIN_gD_2015 < df_C_TMIN_gD_2005_2014].index,\n",
        "            df_C_TMIN_gD_2015[df_C_TMIN_gD_2015 < df_C_TMIN_gD_2005_2014],\n",
        "            color = 'b',\n",
        "            marker='*',\n",
        "            label='Record lowest temperature of 2015')\n",
        "plt.gca().fill_between(range(len(df_C_TMAX_gD_2005_2014)), \n",
        "                       df_C_TMIN_gD_2005_2014, df_C_TMAX_gD_2005_2014, \n",
        "                       facecolor='grey', \n",
        "                       alpha=.3);\n",
        "plt.xticks(np.arange(15, 351, 30), month_abbr[1:]);\n",
        "ax.set_xlabel('Month of the year')\n",
        "ax.set_ylabel('Temperature ($^o C$)')\n",
        "ax.set_title('Record highest and lowest temperature by day of 2005-2015')\n",
        "plt.legend(loc=4, frameon=False, title='Legend');"
      ]
    },
    {
      "cell_type": "code",
      "execution_count": 16,
      "metadata": {
        "id": "HXQqpiYqdvIY"
      },
      "outputs": [],
      "source": [
        "f.savefig('plot.png')"
      ]
    }
  ],
  "metadata": {
    "coursera": {
      "schema_names": [
        "mooc_adswpy_v1_assignment2"
      ]
    },
    "kernelspec": {
      "display_name": "Python 3 (ipykernel)",
      "language": "python",
      "name": "python3"
    },
    "language_info": {
      "codemirror_mode": {
        "name": "ipython",
        "version": 3
      },
      "file_extension": ".py",
      "mimetype": "text/x-python",
      "name": "python",
      "nbconvert_exporter": "python",
      "pygments_lexer": "ipython3",
      "version": "3.9.13"
    },
    "colab": {
      "provenance": [],
      "include_colab_link": true
    }
  },
  "nbformat": 4,
  "nbformat_minor": 0
}