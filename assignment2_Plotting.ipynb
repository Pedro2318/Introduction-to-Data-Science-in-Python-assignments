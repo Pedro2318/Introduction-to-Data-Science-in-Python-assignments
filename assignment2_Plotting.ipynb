{
  "cells": [
    {
      "cell_type": "markdown",
      "metadata": {
        "id": "view-in-github",
        "colab_type": "text"
      },
      "source": [
        "<a href=\"https://colab.research.google.com/github/Pedro2318/Introduction-to-Data-Science-in-Python-assignments/blob/main/assignment2_Plotting.ipynb\" target=\"_parent\"><img src=\"https://colab.research.google.com/assets/colab-badge.svg\" alt=\"Open In Colab\"/></a>"
      ]
    },
    {
      "cell_type": "code",
      "execution_count": null,
      "metadata": {
        "deletable": false,
        "editable": false,
        "nbgrader": {
          "cell_type": "code",
          "checksum": "e45d05a7e6705e7bc18fff5d5890ef58",
          "grade": false,
          "grade_id": "cell-44ca835c70f3040a",
          "locked": true,
          "schema_version": 3,
          "solution": false,
          "task": false
        },
        "id": "cM5y72KvdvIO",
        "outputId": "173e9b7d-db43-4af3-ab10-8dacb1fe8762",
        "colab": {
          "base_uri": "https://localhost:8080/",
          "height": 17
        }
      },
      "outputs": [
        {
          "output_type": "display_data",
          "data": {
            "text/plain": [
              "<IPython.core.display.Javascript object>"
            ],
            "application/javascript": [
              "IPython.OutputArea.prototype._should_scroll = function(lines) {\n",
              "    return false; // disable scroll bar when displaying Folium map\n",
              "}\n"
            ]
          },
          "metadata": {}
        }
      ],
      "source": [
        "%%javascript\n",
        "IPython.OutputArea.prototype._should_scroll = function(lines) {\n",
        "    return false; // disable scroll bar when displaying Folium map\n",
        "}"
      ]
    },
    {
      "cell_type": "markdown",
      "metadata": {
        "deletable": false,
        "editable": false,
        "nbgrader": {
          "cell_type": "markdown",
          "checksum": "ae6111747a75bdb5c5393f44d1045577",
          "grade": false,
          "grade_id": "cell-c676d66924c74eea",
          "locked": true,
          "schema_version": 3,
          "solution": false,
          "task": false
        },
        "id": "MEeYCtoXdvIQ"
      },
      "source": [
        "# Assignment 2\n",
        "\n",
        "Before working on this assignment please read these instructions fully. In the submission area, you will notice that you can click the link to **Preview the Grading** for each step of the assignment. This is the criteria that will be used for peer grading. Please familiarize yourself with the criteria before beginning the assignment.\n",
        "\n",
        "The data for this assignment comes from a subset of The National Centers for Environmental Information (NCEI) [Global Historical Climatology Network daily (GHCNd)](https://www.ncei.noaa.gov/products/land-based-station/global-historical-climatology-network-daily) (GHCN-Daily). The GHCN-Daily is comprised of daily climate records from thousands of land surface stations across the globe - it's a wonderfully large dataset to play with! In particular, you will be asked to use data from the Ann Arbor Michigan location (my home!). and this is stored in the file: `assets/fb441e62df2d58994928907a91895ec62c2c42e6cd075c2700843b89.csv`\n",
        "\n",
        "Each row in this datafile corresponds to a single observation from a weather station, and has the following variables:\n",
        "* **id** : station identification code\n",
        "* **date** : date in YYYY-MM-DD format (e.g. 2012-01-24 = January 24, 2012)\n",
        "* **element** : indicator of element type\n",
        "    * TMAX : Maximum temperature (tenths of degrees C)\n",
        "    * TMIN : Minimum temperature (tenths of degrees C)\n",
        "* **value** : data value for element (tenths of degrees C)\n",
        "\n",
        "For this assignment, you must:\n",
        "\n",
        "1. Read the documentation and familiarize yourself with the dataset, then write a python notebook which plots line graphs of the record high and record low temperatures by day of the year over the period 2005-2014. The area between the record high and record low temperatures for each day should be shaded.\n",
        "2. Overlay a scatter of the 2015 data for any points (highs and lows) for which the ten year record (2005-2014) record high or record low was broken in 2015. (Based on the graph, do you think extreme weather is getting more frequent in 2015?)\n",
        "3. Watch out for leap days (i.e. February 29th), it is reasonable to remove these points from the dataset for the purpose of this visualization.\n",
        "4. Make the visual nice! Leverage principles from the first module in this course when developing your solution. Consider issues such as legends, labels, and chart junk.\n",
        "\n",
        "I've written some steps I think would be good to go through, but there are other ways to solve this assignment so feel free to explore the pandas library! What I really want to see is an image that looks like this sketch I drew at my desk:\n",
        "\n",
        "![](assets/chris_sketch.png)"
      ]
    },
    {
      "cell_type": "code",
      "execution_count": null,
      "metadata": {
        "deletable": false,
        "editable": false,
        "nbgrader": {
          "cell_type": "code",
          "checksum": "d8d9355fc55599cd2ad34fdd140baac1",
          "grade": false,
          "grade_id": "cell-f01cb0e8645e7c07",
          "locked": true,
          "schema_version": 3,
          "solution": false,
          "task": false
        },
        "id": "r_VRqysEdvIT",
        "outputId": "1a24e4e5-87c1-45d5-ce0f-4f3718bd1406",
        "colab": {
          "base_uri": "https://localhost:8080/",
          "height": 382
        }
      },
      "outputs": [
        {
          "output_type": "error",
          "ename": "FileNotFoundError",
          "evalue": "ignored",
          "traceback": [
            "\u001b[0;31m---------------------------------------------------------------------------\u001b[0m",
            "\u001b[0;31mFileNotFoundError\u001b[0m                         Traceback (most recent call last)",
            "\u001b[0;32m<ipython-input-2-b265ff83c090>\u001b[0m in \u001b[0;36m<cell line: 7>\u001b[0;34m()\u001b[0m\n\u001b[1;32m      5\u001b[0m \u001b[0;34m\u001b[0m\u001b[0m\n\u001b[1;32m      6\u001b[0m \u001b[0;31m# get the location information for this dataset\u001b[0m\u001b[0;34m\u001b[0m\u001b[0;34m\u001b[0m\u001b[0m\n\u001b[0;32m----> 7\u001b[0;31m \u001b[0mdf\u001b[0m \u001b[0;34m=\u001b[0m \u001b[0mpd\u001b[0m\u001b[0;34m.\u001b[0m\u001b[0mread_csv\u001b[0m\u001b[0;34m(\u001b[0m\u001b[0;34m'assets/BinSize_d400.csv'\u001b[0m\u001b[0;34m)\u001b[0m\u001b[0;34m\u001b[0m\u001b[0;34m\u001b[0m\u001b[0m\n\u001b[0m\u001b[1;32m      8\u001b[0m \u001b[0mstation_locations_by_hash\u001b[0m \u001b[0;34m=\u001b[0m \u001b[0mdf\u001b[0m\u001b[0;34m[\u001b[0m\u001b[0mdf\u001b[0m\u001b[0;34m[\u001b[0m\u001b[0;34m'hash'\u001b[0m\u001b[0;34m]\u001b[0m \u001b[0;34m==\u001b[0m \u001b[0;34m'fb441e62df2d58994928907a91895ec62c2c42e6cd075c2700843b89'\u001b[0m\u001b[0;34m]\u001b[0m\u001b[0;34m\u001b[0m\u001b[0;34m\u001b[0m\u001b[0m\n\u001b[1;32m      9\u001b[0m \u001b[0;34m\u001b[0m\u001b[0m\n",
            "\u001b[0;32m/usr/local/lib/python3.10/dist-packages/pandas/util/_decorators.py\u001b[0m in \u001b[0;36mwrapper\u001b[0;34m(*args, **kwargs)\u001b[0m\n\u001b[1;32m    209\u001b[0m                 \u001b[0;32melse\u001b[0m\u001b[0;34m:\u001b[0m\u001b[0;34m\u001b[0m\u001b[0;34m\u001b[0m\u001b[0m\n\u001b[1;32m    210\u001b[0m                     \u001b[0mkwargs\u001b[0m\u001b[0;34m[\u001b[0m\u001b[0mnew_arg_name\u001b[0m\u001b[0;34m]\u001b[0m \u001b[0;34m=\u001b[0m \u001b[0mnew_arg_value\u001b[0m\u001b[0;34m\u001b[0m\u001b[0;34m\u001b[0m\u001b[0m\n\u001b[0;32m--> 211\u001b[0;31m             \u001b[0;32mreturn\u001b[0m \u001b[0mfunc\u001b[0m\u001b[0;34m(\u001b[0m\u001b[0;34m*\u001b[0m\u001b[0margs\u001b[0m\u001b[0;34m,\u001b[0m \u001b[0;34m**\u001b[0m\u001b[0mkwargs\u001b[0m\u001b[0;34m)\u001b[0m\u001b[0;34m\u001b[0m\u001b[0;34m\u001b[0m\u001b[0m\n\u001b[0m\u001b[1;32m    212\u001b[0m \u001b[0;34m\u001b[0m\u001b[0m\n\u001b[1;32m    213\u001b[0m         \u001b[0;32mreturn\u001b[0m \u001b[0mcast\u001b[0m\u001b[0;34m(\u001b[0m\u001b[0mF\u001b[0m\u001b[0;34m,\u001b[0m \u001b[0mwrapper\u001b[0m\u001b[0;34m)\u001b[0m\u001b[0;34m\u001b[0m\u001b[0;34m\u001b[0m\u001b[0m\n",
            "\u001b[0;32m/usr/local/lib/python3.10/dist-packages/pandas/util/_decorators.py\u001b[0m in \u001b[0;36mwrapper\u001b[0;34m(*args, **kwargs)\u001b[0m\n\u001b[1;32m    329\u001b[0m                     \u001b[0mstacklevel\u001b[0m\u001b[0;34m=\u001b[0m\u001b[0mfind_stack_level\u001b[0m\u001b[0;34m(\u001b[0m\u001b[0;34m)\u001b[0m\u001b[0;34m,\u001b[0m\u001b[0;34m\u001b[0m\u001b[0;34m\u001b[0m\u001b[0m\n\u001b[1;32m    330\u001b[0m                 )\n\u001b[0;32m--> 331\u001b[0;31m             \u001b[0;32mreturn\u001b[0m \u001b[0mfunc\u001b[0m\u001b[0;34m(\u001b[0m\u001b[0;34m*\u001b[0m\u001b[0margs\u001b[0m\u001b[0;34m,\u001b[0m \u001b[0;34m**\u001b[0m\u001b[0mkwargs\u001b[0m\u001b[0;34m)\u001b[0m\u001b[0;34m\u001b[0m\u001b[0;34m\u001b[0m\u001b[0m\n\u001b[0m\u001b[1;32m    332\u001b[0m \u001b[0;34m\u001b[0m\u001b[0m\n\u001b[1;32m    333\u001b[0m         \u001b[0;31m# error: \"Callable[[VarArg(Any), KwArg(Any)], Any]\" has no\u001b[0m\u001b[0;34m\u001b[0m\u001b[0;34m\u001b[0m\u001b[0m\n",
            "\u001b[0;32m/usr/local/lib/python3.10/dist-packages/pandas/io/parsers/readers.py\u001b[0m in \u001b[0;36mread_csv\u001b[0;34m(filepath_or_buffer, sep, delimiter, header, names, index_col, usecols, squeeze, prefix, mangle_dupe_cols, dtype, engine, converters, true_values, false_values, skipinitialspace, skiprows, skipfooter, nrows, na_values, keep_default_na, na_filter, verbose, skip_blank_lines, parse_dates, infer_datetime_format, keep_date_col, date_parser, dayfirst, cache_dates, iterator, chunksize, compression, thousands, decimal, lineterminator, quotechar, quoting, doublequote, escapechar, comment, encoding, encoding_errors, dialect, error_bad_lines, warn_bad_lines, on_bad_lines, delim_whitespace, low_memory, memory_map, float_precision, storage_options)\u001b[0m\n\u001b[1;32m    948\u001b[0m     \u001b[0mkwds\u001b[0m\u001b[0;34m.\u001b[0m\u001b[0mupdate\u001b[0m\u001b[0;34m(\u001b[0m\u001b[0mkwds_defaults\u001b[0m\u001b[0;34m)\u001b[0m\u001b[0;34m\u001b[0m\u001b[0;34m\u001b[0m\u001b[0m\n\u001b[1;32m    949\u001b[0m \u001b[0;34m\u001b[0m\u001b[0m\n\u001b[0;32m--> 950\u001b[0;31m     \u001b[0;32mreturn\u001b[0m \u001b[0m_read\u001b[0m\u001b[0;34m(\u001b[0m\u001b[0mfilepath_or_buffer\u001b[0m\u001b[0;34m,\u001b[0m \u001b[0mkwds\u001b[0m\u001b[0;34m)\u001b[0m\u001b[0;34m\u001b[0m\u001b[0;34m\u001b[0m\u001b[0m\n\u001b[0m\u001b[1;32m    951\u001b[0m \u001b[0;34m\u001b[0m\u001b[0m\n\u001b[1;32m    952\u001b[0m \u001b[0;34m\u001b[0m\u001b[0m\n",
            "\u001b[0;32m/usr/local/lib/python3.10/dist-packages/pandas/io/parsers/readers.py\u001b[0m in \u001b[0;36m_read\u001b[0;34m(filepath_or_buffer, kwds)\u001b[0m\n\u001b[1;32m    603\u001b[0m \u001b[0;34m\u001b[0m\u001b[0m\n\u001b[1;32m    604\u001b[0m     \u001b[0;31m# Create the parser.\u001b[0m\u001b[0;34m\u001b[0m\u001b[0;34m\u001b[0m\u001b[0m\n\u001b[0;32m--> 605\u001b[0;31m     \u001b[0mparser\u001b[0m \u001b[0;34m=\u001b[0m \u001b[0mTextFileReader\u001b[0m\u001b[0;34m(\u001b[0m\u001b[0mfilepath_or_buffer\u001b[0m\u001b[0;34m,\u001b[0m \u001b[0;34m**\u001b[0m\u001b[0mkwds\u001b[0m\u001b[0;34m)\u001b[0m\u001b[0;34m\u001b[0m\u001b[0;34m\u001b[0m\u001b[0m\n\u001b[0m\u001b[1;32m    606\u001b[0m \u001b[0;34m\u001b[0m\u001b[0m\n\u001b[1;32m    607\u001b[0m     \u001b[0;32mif\u001b[0m \u001b[0mchunksize\u001b[0m \u001b[0;32mor\u001b[0m \u001b[0miterator\u001b[0m\u001b[0;34m:\u001b[0m\u001b[0;34m\u001b[0m\u001b[0;34m\u001b[0m\u001b[0m\n",
            "\u001b[0;32m/usr/local/lib/python3.10/dist-packages/pandas/io/parsers/readers.py\u001b[0m in \u001b[0;36m__init__\u001b[0;34m(self, f, engine, **kwds)\u001b[0m\n\u001b[1;32m   1440\u001b[0m \u001b[0;34m\u001b[0m\u001b[0m\n\u001b[1;32m   1441\u001b[0m         \u001b[0mself\u001b[0m\u001b[0;34m.\u001b[0m\u001b[0mhandles\u001b[0m\u001b[0;34m:\u001b[0m \u001b[0mIOHandles\u001b[0m \u001b[0;34m|\u001b[0m \u001b[0;32mNone\u001b[0m \u001b[0;34m=\u001b[0m \u001b[0;32mNone\u001b[0m\u001b[0;34m\u001b[0m\u001b[0;34m\u001b[0m\u001b[0m\n\u001b[0;32m-> 1442\u001b[0;31m         \u001b[0mself\u001b[0m\u001b[0;34m.\u001b[0m\u001b[0m_engine\u001b[0m \u001b[0;34m=\u001b[0m \u001b[0mself\u001b[0m\u001b[0;34m.\u001b[0m\u001b[0m_make_engine\u001b[0m\u001b[0;34m(\u001b[0m\u001b[0mf\u001b[0m\u001b[0;34m,\u001b[0m \u001b[0mself\u001b[0m\u001b[0;34m.\u001b[0m\u001b[0mengine\u001b[0m\u001b[0;34m)\u001b[0m\u001b[0;34m\u001b[0m\u001b[0;34m\u001b[0m\u001b[0m\n\u001b[0m\u001b[1;32m   1443\u001b[0m \u001b[0;34m\u001b[0m\u001b[0m\n\u001b[1;32m   1444\u001b[0m     \u001b[0;32mdef\u001b[0m \u001b[0mclose\u001b[0m\u001b[0;34m(\u001b[0m\u001b[0mself\u001b[0m\u001b[0;34m)\u001b[0m \u001b[0;34m->\u001b[0m \u001b[0;32mNone\u001b[0m\u001b[0;34m:\u001b[0m\u001b[0;34m\u001b[0m\u001b[0;34m\u001b[0m\u001b[0m\n",
            "\u001b[0;32m/usr/local/lib/python3.10/dist-packages/pandas/io/parsers/readers.py\u001b[0m in \u001b[0;36m_make_engine\u001b[0;34m(self, f, engine)\u001b[0m\n\u001b[1;32m   1733\u001b[0m                 \u001b[0;32mif\u001b[0m \u001b[0;34m\"b\"\u001b[0m \u001b[0;32mnot\u001b[0m \u001b[0;32min\u001b[0m \u001b[0mmode\u001b[0m\u001b[0;34m:\u001b[0m\u001b[0;34m\u001b[0m\u001b[0;34m\u001b[0m\u001b[0m\n\u001b[1;32m   1734\u001b[0m                     \u001b[0mmode\u001b[0m \u001b[0;34m+=\u001b[0m \u001b[0;34m\"b\"\u001b[0m\u001b[0;34m\u001b[0m\u001b[0;34m\u001b[0m\u001b[0m\n\u001b[0;32m-> 1735\u001b[0;31m             self.handles = get_handle(\n\u001b[0m\u001b[1;32m   1736\u001b[0m                 \u001b[0mf\u001b[0m\u001b[0;34m,\u001b[0m\u001b[0;34m\u001b[0m\u001b[0;34m\u001b[0m\u001b[0m\n\u001b[1;32m   1737\u001b[0m                 \u001b[0mmode\u001b[0m\u001b[0;34m,\u001b[0m\u001b[0;34m\u001b[0m\u001b[0;34m\u001b[0m\u001b[0m\n",
            "\u001b[0;32m/usr/local/lib/python3.10/dist-packages/pandas/io/common.py\u001b[0m in \u001b[0;36mget_handle\u001b[0;34m(path_or_buf, mode, encoding, compression, memory_map, is_text, errors, storage_options)\u001b[0m\n\u001b[1;32m    854\u001b[0m         \u001b[0;32mif\u001b[0m \u001b[0mioargs\u001b[0m\u001b[0;34m.\u001b[0m\u001b[0mencoding\u001b[0m \u001b[0;32mand\u001b[0m \u001b[0;34m\"b\"\u001b[0m \u001b[0;32mnot\u001b[0m \u001b[0;32min\u001b[0m \u001b[0mioargs\u001b[0m\u001b[0;34m.\u001b[0m\u001b[0mmode\u001b[0m\u001b[0;34m:\u001b[0m\u001b[0;34m\u001b[0m\u001b[0;34m\u001b[0m\u001b[0m\n\u001b[1;32m    855\u001b[0m             \u001b[0;31m# Encoding\u001b[0m\u001b[0;34m\u001b[0m\u001b[0;34m\u001b[0m\u001b[0m\n\u001b[0;32m--> 856\u001b[0;31m             handle = open(\n\u001b[0m\u001b[1;32m    857\u001b[0m                 \u001b[0mhandle\u001b[0m\u001b[0;34m,\u001b[0m\u001b[0;34m\u001b[0m\u001b[0;34m\u001b[0m\u001b[0m\n\u001b[1;32m    858\u001b[0m                 \u001b[0mioargs\u001b[0m\u001b[0;34m.\u001b[0m\u001b[0mmode\u001b[0m\u001b[0;34m,\u001b[0m\u001b[0;34m\u001b[0m\u001b[0;34m\u001b[0m\u001b[0m\n",
            "\u001b[0;31mFileNotFoundError\u001b[0m: [Errno 2] No such file or directory: 'assets/BinSize_d400.csv'"
          ]
        }
      ],
      "source": [
        "#  I'll be using the folium package to render the data into a map in Jupyter.\n",
        "\n",
        "import folium\n",
        "import pandas as pd\n",
        "\n",
        "# get the location information for this dataset\n",
        "df = pd.read_csv('assets/BinSize_d400.csv')\n",
        "station_locations_by_hash = df[df['hash'] == 'fb441e62df2d58994928907a91895ec62c2c42e6cd075c2700843b89']\n",
        "\n",
        "# get longitude and lattitude to plot\n",
        "lons = station_locations_by_hash['LONGITUDE'].tolist()\n",
        "lats = station_locations_by_hash['LATITUDE'].tolist()\n",
        "\n",
        "# plot on a beautiful folium map\n",
        "my_map = folium.Map(location = [lats[0], lons[0]], height = 500,  zoom_start = 9)\n",
        "for lat, lon in zip(lats, lons):\n",
        "    folium.Marker([lat, lon]).add_to(my_map)\n",
        "\n",
        "# render map in Jupyter\n",
        "display(my_map)"
      ]
    },
    {
      "cell_type": "markdown",
      "metadata": {
        "deletable": false,
        "editable": false,
        "nbgrader": {
          "cell_type": "markdown",
          "checksum": "d2ee9d3c5ac53844b3ed48aa157f6204",
          "grade": false,
          "grade_id": "cell-695e4689bc5509b6",
          "locked": true,
          "schema_version": 3,
          "solution": false,
          "task": false
        },
        "id": "o1UwOaYGdvIU"
      },
      "source": [
        "## Step 1\n",
        "Load the dataset and transform the data into Celsius (refer to documentation) then extract all of the rows which have minimum or maximum temperatures.\n",
        "\n",
        "__hint: when I did this step I had two DataFrame objects, each with ~80,000 entries in it__"
      ]
    },
    {
      "cell_type": "code",
      "execution_count": null,
      "metadata": {
        "deletable": false,
        "editable": false,
        "nbgrader": {
          "cell_type": "code",
          "checksum": "dbfe393a2232a653ebbd81e518237a83",
          "grade": false,
          "grade_id": "cell-f508059dd84e9b7c",
          "locked": true,
          "schema_version": 3,
          "solution": false,
          "task": false
        },
        "id": "oC5QQcuNdvIU"
      },
      "outputs": [],
      "source": [
        "import pandas as pd\n",
        "df = pd.read_csv('assets/fb441e62df2d58994928907a91895ec62c2c42e6cd075c2700843b89.csv')\n",
        "df.head()"
      ]
    },
    {
      "cell_type": "code",
      "execution_count": null,
      "metadata": {
        "id": "g8_qjmRGdvIV"
      },
      "outputs": [],
      "source": [
        "# In this code cell, transform the Data_Value column\n",
        "df_C = df[:]\n",
        "df_C['Data_Value'] = df_C['Data_Value']/10\n",
        "print(df_C)\n",
        "df_C_TMAX = df_C[df_C['Element'] == 'TMAX']\n",
        "print(df_C_TMAX)\n",
        "df_C_TMIN = df_C[df_C['Element'] == 'TMIN']\n",
        "print(df_C_TMIN.info())"
      ]
    },
    {
      "cell_type": "markdown",
      "metadata": {
        "deletable": false,
        "editable": false,
        "nbgrader": {
          "cell_type": "markdown",
          "checksum": "76f2478088402765c38ed2b9db771916",
          "grade": false,
          "grade_id": "cell-c5718635688cb408",
          "locked": true,
          "schema_version": 3,
          "solution": false,
          "task": false
        },
        "id": "iv6NPw2KdvIV"
      },
      "source": [
        "## Step 2\n",
        "In order to visualize the data we would plot the min and max data for each day of the year between the years 2005 and 2014 across all weather stations. But we also need to find out when the min or max temperature in 2015 falls below the min or rises above the max for the previous decade.\n",
        "\n",
        "If you did step 1 you have two Series objects with min and max times for the years 2005 through 2015. You can use Pandas `groupby` to create max and min temperature Series objects across all weather stations for each day of these years, and you can deal with the records for February 29 (the leap year) by dropping them.\n",
        "\n",
        "__hint: when I finished this step, I had two DataFrame objects, each with exactly 4015 observations in them__"
      ]
    },
    {
      "cell_type": "code",
      "execution_count": null,
      "metadata": {
        "id": "vm7qlkoVdvIW"
      },
      "outputs": [],
      "source": [
        "# create a DataFrame of maximum temperature by date\n",
        "df_C_TMAX_gD = pd.DataFrame(data = df_C_TMAX.groupby(['Date'])['Data_Value'].max().drop(['2008-02-29','2012-02-29'])) \n",
        "print(df_C_TMAX_gD)\n",
        "# create a DataFrame of minimum temperatures by date\n",
        "df_C_TMIN_gD = pd.DataFrame(data = df_C_TMIN.groupby(['Date'])['Data_Value'].min().drop(['2008-02-29','2012-02-29']))\n",
        "print(df_C_TMIN_gD)"
      ]
    },
    {
      "cell_type": "markdown",
      "metadata": {
        "deletable": false,
        "editable": false,
        "nbgrader": {
          "cell_type": "markdown",
          "checksum": "0edac9c92f1b79eb9b21f302a3259c5e",
          "grade": false,
          "grade_id": "cell-d3a1a2647a47fe31",
          "locked": true,
          "schema_version": 3,
          "solution": false,
          "task": false
        },
        "id": "ydpX85OZdvIW"
      },
      "source": [
        "## Step 3\n",
        "Now that you have grouped the daily max and min temperatures for each day of the years 2005 through 2015, you can separate out the data for 2015. Then you can use the Pandas `groupby` function to find the max and min of the temperature data for each __day of the year__ for the 2005-2014 data.\n",
        "\n",
        "__hint: at the end of this step I had two DataFrames, one of maximum and the other of minimum values, which each had 365 observations in them. I also had another pair of similar DataFrames but only for the year 2015.__"
      ]
    },
    {
      "cell_type": "code",
      "execution_count": null,
      "metadata": {
        "id": "irieSRapdvIW"
      },
      "outputs": [],
      "source": [
        "df_C_TMAX_gD.loc[:, 'Y'] = df_C_TMAX_gD.index.str.split('-').str[0]\n",
        "df_C_TMAX_gD.loc[:, 'M-D'] = df_C_TMAX_gD.index.str.split('-').str[1] + '-' + df_C_TMAX_gD.index.str.split('-').str[2]\n",
        "df_C_TMIN_gD.loc[:, 'Y'] = df_C_TMIN_gD.index.str.split('-').str[0]\n",
        "df_C_TMIN_gD.loc[:, 'M-D'] = df_C_TMIN_gD.index.str.split('-').str[1] + '-' + df_C_TMIN_gD.index.str.split('-').str[2]"
      ]
    },
    {
      "cell_type": "code",
      "execution_count": null,
      "metadata": {
        "id": "9cmatl8TdvIW"
      },
      "outputs": [],
      "source": [
        "print(df_C_TMAX_gD)\n",
        "print(df_C_TMIN_gD)"
      ]
    },
    {
      "cell_type": "code",
      "execution_count": null,
      "metadata": {
        "id": "5lIDJSzJdvIX"
      },
      "outputs": [],
      "source": [
        "# calculate the minimum and maximum values for the day of the year for 2005 through 2014\n",
        "df_C_TMAX_gD_2005_2014 = pd.DataFrame(data = df_C_TMAX_gD[:'2014-12-31'].reset_index(drop=True).groupby(['M-D'])['Data_Value'].max())['Data_Value']\n",
        "print(df_C_TMAX_gD_2005_2014)\n",
        "df_C_TMIN_gD_2005_2014 = pd.DataFrame(data = df_C_TMIN_gD[:'2014-12-31'].reset_index(drop=True).groupby(['M-D'])['Data_Value'].min())['Data_Value']\n",
        "print(df_C_TMIN_gD_2005_2014)\n",
        "# calculate the minimum and maximum values for the years 2015\n",
        "df_C_TMAX_gD_2015 = df_C_TMAX_gD['2015-01-01':].set_index(['M-D'])['Data_Value']\n",
        "print(df_C_TMAX_gD_2015)\n",
        "df_C_TMIN_gD_2015 = df_C_TMIN_gD['2015-01-01':].set_index(['M-D'])['Data_Value']\n",
        "print(df_C_TMIN_gD_2015)"
      ]
    },
    {
      "cell_type": "markdown",
      "metadata": {
        "deletable": false,
        "editable": false,
        "nbgrader": {
          "cell_type": "markdown",
          "checksum": "d7de066a05b833f7ded9353ee2215ba8",
          "grade": false,
          "grade_id": "cell-25711f5fdbe49515",
          "locked": true,
          "schema_version": 3,
          "solution": false,
          "task": false
        },
        "id": "MhkYu6HZdvIX"
      },
      "source": [
        "## Step 4\n",
        "Now it's time to plot! You need to explore matplotlib in order to plot line graphs of the min and max temperatures for the years 2005 through 2014 and to scatter plot __only__ the daily 2015 temperatures that exceeded those values."
      ]
    },
    {
      "cell_type": "code",
      "execution_count": null,
      "metadata": {
        "id": "bq80WtZTdvIX"
      },
      "outputs": [],
      "source": [
        "import numpy as np\n",
        "import matplotlib.pyplot as plt\n",
        "from calendar import month_abbr\n",
        "\n",
        "# put your plotting code here!\n",
        "f, ax= plt.subplots(1, 1, figsize=(8, 7))\n",
        "plt.plot(df_C_TMAX_gD_2005_2014, 'r',\n",
        "         label = 'Highest temperature of 2005 - 2004',\n",
        "         alpha = .5)\n",
        "plt.plot(df_C_TMIN_gD_2005_2014, 'b',\n",
        "         label = 'Lowest temperature of 2005 - 2004',\n",
        "         alpha = .5)\n",
        "plt.scatter(df_C_TMAX_gD_2015[df_C_TMAX_gD_2015 > df_C_TMAX_gD_2005_2014].index,\n",
        "            df_C_TMAX_gD_2015[df_C_TMAX_gD_2015 > df_C_TMAX_gD_2005_2014],\n",
        "            color = 'r',\n",
        "            marker = '*',\n",
        "            label='Record highest temperature of 2015')\n",
        "plt.scatter(df_C_TMIN_gD_2015[df_C_TMIN_gD_2015 < df_C_TMIN_gD_2005_2014].index,\n",
        "            df_C_TMIN_gD_2015[df_C_TMIN_gD_2015 < df_C_TMIN_gD_2005_2014],\n",
        "            color = 'b',\n",
        "            marker='*',\n",
        "            label='Record lowest temperature of 2015')\n",
        "plt.gca().fill_between(range(len(df_C_TMAX_gD_2005_2014)), \n",
        "                       df_C_TMIN_gD_2005_2014, df_C_TMAX_gD_2005_2014, \n",
        "                       facecolor='grey', \n",
        "                       alpha=.3);\n",
        "plt.xticks(np.arange(15, 351, 30), month_abbr[1:]);\n",
        "ax.set_xlabel('Month of the year')\n",
        "ax.set_ylabel('Temperature ($^o C$)')\n",
        "ax.set_title('Record highest and lowest temperature by day of 2005-2015')\n",
        "plt.legend(loc=4, frameon=False, title='Legend');"
      ]
    },
    {
      "cell_type": "code",
      "execution_count": null,
      "metadata": {
        "id": "HXQqpiYqdvIY"
      },
      "outputs": [],
      "source": [
        "f.savefig('plot.png')"
      ]
    }
  ],
  "metadata": {
    "coursera": {
      "schema_names": [
        "mooc_adswpy_v1_assignment2"
      ]
    },
    "kernelspec": {
      "display_name": "Python 3 (ipykernel)",
      "language": "python",
      "name": "python3"
    },
    "language_info": {
      "codemirror_mode": {
        "name": "ipython",
        "version": 3
      },
      "file_extension": ".py",
      "mimetype": "text/x-python",
      "name": "python",
      "nbconvert_exporter": "python",
      "pygments_lexer": "ipython3",
      "version": "3.9.13"
    },
    "colab": {
      "provenance": [],
      "include_colab_link": true
    }
  },
  "nbformat": 4,
  "nbformat_minor": 0
}