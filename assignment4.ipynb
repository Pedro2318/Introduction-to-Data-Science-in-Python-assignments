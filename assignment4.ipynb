{
 "cells": [
  {
   "cell_type": "markdown",
   "metadata": {
    "deletable": false,
    "editable": false,
    "nbgrader": {
     "checksum": "48770f8b5f5d3062d3badd51fcafc401",
     "grade": false,
     "grade_id": "cell-a6c4f74309fc2379",
     "locked": true,
     "schema_version": 1,
     "solution": false
    }
   },
   "source": [
    "# Assignment 4\n",
    "## Description\n",
    "In this assignment you must read in a file of metropolitan regions and associated sports teams from [assets/wikipedia_data.html](assets/wikipedia_data.html) and answer some questions about each metropolitan region. Each of these regions may have one or more teams from the \"Big 4\": NFL (football, in [assets/nfl.csv](assets/nfl.csv)), MLB (baseball, in [assets/mlb.csv](assets/mlb.csv)), NBA (basketball, in [assets/nba.csv](assets/nba.csv) or NHL (hockey, in [assets/nhl.csv](assets/nhl.csv)). Please keep in mind that all questions are from the perspective of the metropolitan region, and that this file is the \"source of authority\" for the location of a given sports team. Thus teams which are commonly known by a different area (e.g. \"Oakland Raiders\") need to be mapped into the metropolitan region given (e.g. San Francisco Bay Area). This will require some human data understanding outside of the data you've been given (e.g. you will have to hand-code some names, and might need to google to find out where teams are)!\n",
    "\n",
    "For each sport I would like you to answer the question: **what is the win/loss ratio's correlation with the population of the city it is in?** Win/Loss ratio refers to the number of wins over the number of wins plus the number of losses. Remember that to calculate the correlation with [`pearsonr`](https://docs.scipy.org/doc/scipy/reference/generated/scipy.stats.pearsonr.html), so you are going to send in two ordered lists of values, the populations from the wikipedia_data.html file and the win/loss ratio for a given sport in the same order. Average the win/loss ratios for those cities which have multiple teams of a single sport. Each sport is worth an equal amount in this assignment (20%\\*4=80%) of the grade for this assignment. You should only use data **from year 2018** for your analysis -- this is important!\n",
    "\n",
    "## Notes\n",
    "\n",
    "1. Do not include data about the MLS or CFL in any of the work you are doing, we're only interested in the Big 4 in this assignment.\n",
    "2. I highly suggest that you first tackle the four correlation questions in order, as they are all similar and worth the majority of grades for this assignment. This is by design!\n",
    "3. It's fair game to talk with peers about high level strategy as well as the relationship between metropolitan areas and sports teams. However, do not post code solving aspects of the assignment (including such as dictionaries mapping areas to teams, or regexes which will clean up names).\n",
    "4. There may be more teams than the assert statements test, remember to collapse multiple teams in one city into a single value!"
   ]
  },
  {
   "cell_type": "markdown",
   "metadata": {
    "deletable": false,
    "editable": false,
    "nbgrader": {
     "checksum": "369ff9ecf0ee04640574205cbc697f94",
     "grade": false,
     "grade_id": "cell-712b2b5da63d4505",
     "locked": true,
     "schema_version": 1,
     "solution": false
    }
   },
   "source": [
    "## Question 1\n",
    "For this question, calculate the win/loss ratio's correlation with the population of the city it is in for the **NHL** using **2018** data."
   ]
  },
  {
   "cell_type": "code",
   "execution_count": 1,
   "metadata": {
    "deletable": false,
    "nbgrader": {
     "checksum": "1cac4803b02502929f5b1612d48db2b5",
     "grade": false,
     "grade_id": "cell-69b16e4386e58030",
     "locked": false,
     "schema_version": 1,
     "solution": true
    }
   },
   "outputs": [
    {
     "data": {
      "text/plain": [
       "0.012486162921209907"
      ]
     },
     "execution_count": 1,
     "metadata": {},
     "output_type": "execute_result"
    }
   ],
   "source": [
    "import pandas as pd\n",
    "import numpy as np\n",
    "import scipy.stats as stats\n",
    "import re\n",
    "\n",
    "nhl_df=pd.read_csv(\"assets/nhl.csv\")\n",
    "nhl_df['team'] = nhl_df['team'].str.replace(r'*', '')\n",
    "nhl_df=nhl_df[nhl_df['year']==2018].drop([0,9,18,26])\n",
    "nhl_df['W'] = pd.to_numeric(nhl_df['W'])\n",
    "nhl_df['L'] = pd.to_numeric(nhl_df['L'])\n",
    "nhl_df['win/loss ratio'] = nhl_df['W']/(nhl_df['W']+nhl_df['L'])\n",
    "    \n",
    "new = nhl_df[\"team\"].str.rsplit(\" \", expand = True)\n",
    "new[3] = ''\n",
    "for i in new.index:\n",
    "        if (i in [3, 5, 13, 27]):\n",
    "            new[3][i] = new[1][i] + ' ' + new[2][i]\n",
    "        elif (i in [1, 14, 16, 17, 23, 29, 30]):\n",
    "            new[3][i] = new[2][i]\n",
    "        else:\n",
    "            new[3][i] = new[1][i]\n",
    "nhl_df['NHL'] = new[3]\n",
    "    \n",
    "RID = nhl_df['win/loss ratio'][[14,16,17]]\n",
    "nhl_df['win/loss ratio'][[14,16,17]] = RID.mean()\n",
    "KD = nhl_df['win/loss ratio'][[28,30]]\n",
    "nhl_df['win/loss ratio'][[28,30]] = KD.mean()\n",
    "#print(nhl_df[['NHL','win/loss ratio']])\n",
    "    \n",
    "cities=pd.read_html(\"assets/wikipedia_data.html\")[1]\n",
    "cities=cities.iloc[:-1,[0,3,5,6,7,8]]\n",
    "cities['NHL'] = cities['NHL'].str.replace(r'\\[.*\\]|—', '')\n",
    "cities['NHL'] = cities['NHL'].str.replace('IslandersDevils|Ducks', '')\n",
    "cities['Population (2016 est.)[8]'] = pd.to_numeric(cities['Population (2016 est.)[8]'])\n",
    "#print(cities[['Metropolitan area','Population (2016 est.)[8]','NHL']])\n",
    "\n",
    "nhl_cities_df = nhl_df.merge(cities, how='inner', on='NHL')\n",
    "#print(nhl_cities_df[['Metropolitan area','Population (2016 est.)[8]','NHL','win/loss ratio']])    \n",
    "#print(nhl_cities_df['Population (2016 est.)[8]'])\n",
    "#print(nhl_cities_df['win/loss ratio']) \n",
    "    \n",
    "\n",
    "def nhl_correlation(): \n",
    "    # YOUR CODE HERE\n",
    "    #raise NotImplementedError()\n",
    "        \n",
    "    population_by_region = nhl_cities_df['Population (2016 est.)[8]'] # pass in metropolitan area population from cities\n",
    "    win_loss_by_region = nhl_cities_df['win/loss ratio'] # pass in win/loss ratio from nhl_df in the same order as cities[\"Metropolitan area\"]\n",
    "\n",
    "    assert len(population_by_region) == len(win_loss_by_region), \"Q1: Your lists must be the same length\"\n",
    "    assert len(population_by_region) == 28, \"Q1: There should be 28 teams being analysed for NHL\"\n",
    "    \n",
    "    (corr,p) = stats.pearsonr(population_by_region, win_loss_by_region)\n",
    "    \n",
    "    return corr\n",
    "nhl_correlation()"
   ]
  },
  {
   "cell_type": "code",
   "execution_count": null,
   "metadata": {
    "deletable": false,
    "editable": false,
    "nbgrader": {
     "checksum": "52a581df513c71153e105b93764cda4b",
     "grade": true,
     "grade_id": "cell-ebe0b2dfe1067e63",
     "locked": true,
     "points": 20,
     "schema_version": 1,
     "solution": false
    }
   },
   "outputs": [],
   "source": []
  },
  {
   "cell_type": "markdown",
   "metadata": {
    "deletable": false,
    "editable": false,
    "nbgrader": {
     "checksum": "988912cae4968d81473f46d783e79c16",
     "grade": false,
     "grade_id": "cell-cb964e690298b71d",
     "locked": true,
     "schema_version": 1,
     "solution": false
    }
   },
   "source": [
    "## Question 2\n",
    "For this question, calculate the win/loss ratio's correlation with the population of the city it is in for the **NBA** using **2018** data."
   ]
  },
  {
   "cell_type": "code",
   "execution_count": 2,
   "metadata": {
    "deletable": false,
    "nbgrader": {
     "checksum": "9394222aafc8ccab0a228098ba0d6010",
     "grade": false,
     "grade_id": "cell-5a5f21279e3d3572",
     "locked": false,
     "schema_version": 1,
     "solution": true
    }
   },
   "outputs": [
    {
     "data": {
      "text/plain": [
       "-0.1765716025284462"
      ]
     },
     "execution_count": 2,
     "metadata": {},
     "output_type": "execute_result"
    }
   ],
   "source": [
    "import pandas as pd\n",
    "import numpy as np\n",
    "import scipy.stats as stats\n",
    "import re\n",
    "\n",
    "nba_df=pd.read_csv(\"assets/nba.csv\")\n",
    "nba_df['team'] = nba_df['team'].str.replace(r'*', '')\n",
    "nba_df['team'] = nba_df['team'].str.replace(r'\\s\\(.*\\)', '')\n",
    "nba_df=nba_df[nba_df['year']==2018]\n",
    "\n",
    "nba_df['W'] = pd.to_numeric(nba_df['W'])\n",
    "nba_df['L'] = pd.to_numeric(nba_df['L'])\n",
    "nba_df['win/loss ratio'] = nba_df['W']/(nba_df['W']+nba_df['L'])\n",
    "\n",
    "new = nba_df[\"team\"].str.rsplit(\" \", expand = True)\n",
    "new[3] = ''\n",
    "for i in new.index:\n",
    "    if (i in [17]):\n",
    "        new[3][i] = new[1][i] + ' ' + new[2][i]\n",
    "    elif (i in [10,16,18,20,21,24,25]):\n",
    "        new[3][i] = new[2][i]\n",
    "    else:\n",
    "        new[3][i] = new[1][i]\n",
    "nba_df['NBA'] = new[3]\n",
    "KN = nba_df['win/loss ratio'][[10,11]]\n",
    "nba_df['win/loss ratio'][[10,11]] = KN.mean()\n",
    "LC = nba_df['win/loss ratio'][[24,25]]\n",
    "nba_df['win/loss ratio'][[24,25]] = LC.mean()\n",
    "#print(nba_df[['NBA','win/loss ratio']])\n",
    "\n",
    "cities=pd.read_html(\"assets/wikipedia_data.html\")[1]\n",
    "cities=cities.iloc[:-1,[0,3,5,6,7,8]]\n",
    "cities['NBA'] = cities['NBA'].str.replace(r'\\[.*\\]|—', '')\n",
    "cities['Population (2016 est.)[8]'] = pd.to_numeric(cities['Population (2016 est.)[8]'])\n",
    "cities['NBA'] = cities['NBA'].str.replace('Nets|Clippers', '')\n",
    "#print(cities[['Metropolitan area','Population (2016 est.)[8]','NBA']])\n",
    "\n",
    "nba_cities_df = nba_df.merge(cities, how='inner', on='NBA')\n",
    "\n",
    "def nba_correlation():\n",
    "    # YOUR CODE HERE\n",
    "    #raise NotImplementedError()\n",
    "    \n",
    "    population_by_region = nba_cities_df['Population (2016 est.)[8]'] # pass in metropolitan area population from cities\n",
    "    win_loss_by_region = nba_cities_df['win/loss ratio'] # pass in win/loss ratio from nba_df in the same order as cities[\"Metropolitan area\"]\n",
    "\n",
    "    assert len(population_by_region) == len(win_loss_by_region), \"Q2: Your lists must be the same length\"\n",
    "    assert len(population_by_region) == 28, \"Q2: There should be 28 teams being analysed for NBA\"\n",
    "    \n",
    "    (corr,p) = stats.pearsonr(population_by_region, win_loss_by_region)\n",
    "    return corr\n",
    "nba_correlation()"
   ]
  },
  {
   "cell_type": "code",
   "execution_count": null,
   "metadata": {
    "deletable": false,
    "editable": false,
    "nbgrader": {
     "checksum": "bbdeb8eb22f525a34c10dc8798324e42",
     "grade": true,
     "grade_id": "cell-e573b2b4a282b470",
     "locked": true,
     "points": 20,
     "schema_version": 1,
     "solution": false
    }
   },
   "outputs": [],
   "source": []
  },
  {
   "cell_type": "markdown",
   "metadata": {
    "deletable": false,
    "editable": false,
    "nbgrader": {
     "checksum": "1a1a5809f675ca033086422007cd73bd",
     "grade": false,
     "grade_id": "cell-96e15e4335df78f4",
     "locked": true,
     "schema_version": 1,
     "solution": false
    }
   },
   "source": [
    "## Question 3\n",
    "For this question, calculate the win/loss ratio's correlation with the population of the city it is in for the **MLB** using **2018** data."
   ]
  },
  {
   "cell_type": "code",
   "execution_count": 3,
   "metadata": {
    "deletable": false,
    "nbgrader": {
     "checksum": "27e8c0da6c9fa0dffc10488314335b6c",
     "grade": false,
     "grade_id": "cell-33b00fc3f3467b0c",
     "locked": false,
     "schema_version": 1,
     "solution": true
    }
   },
   "outputs": [
    {
     "data": {
      "text/plain": [
       "0.1502769830266931"
      ]
     },
     "execution_count": 3,
     "metadata": {},
     "output_type": "execute_result"
    }
   ],
   "source": [
    "import pandas as pd\n",
    "import numpy as np\n",
    "import scipy.stats as stats\n",
    "import re\n",
    "\n",
    "mlb_df=pd.read_csv(\"assets/mlb.csv\")\n",
    "mlb_df=mlb_df[mlb_df['year']==2018]\n",
    "mlb_df['W'] = pd.to_numeric(mlb_df['W'])\n",
    "mlb_df['L'] = pd.to_numeric(mlb_df['L'])\n",
    "mlb_df['win/loss ratio'] = mlb_df['W']/(mlb_df['W']+mlb_df['L'])\n",
    "\n",
    "new = mlb_df[\"team\"].str.rsplit(\" \", expand = True)\n",
    "new[3] = ''\n",
    "for i in new.index:\n",
    "    if (i in [0,3,8]):\n",
    "        new[3][i] = new[1][i] + ' ' + new[2][i]\n",
    "    elif (i in [1,2,9,13,18,22,25,28,29]):\n",
    "        new[3][i] = new[2][i]\n",
    "    else:\n",
    "        new[3][i] = new[1][i]\n",
    "mlb_df['MLB'] = new[3]\n",
    "YM = mlb_df['win/loss ratio'][[1,18]]\n",
    "mlb_df['win/loss ratio'][[1,18]] = YM.mean()\n",
    "DA = mlb_df['win/loss ratio'][[13,25]]\n",
    "mlb_df['win/loss ratio'][[13,25]] = DA.mean()\n",
    "GA = mlb_df['win/loss ratio'][[11,28]]\n",
    "mlb_df['win/loss ratio'][[11,28]] = GA.mean()\n",
    "CW = mlb_df['win/loss ratio'][[8,21]]\n",
    "mlb_df['win/loss ratio'][[8,21]] = CW.mean()\n",
    "#print(mlb_df[['MLB','win/loss ratio']])\n",
    "\n",
    "cities=pd.read_html(\"assets/wikipedia_data.html\")[1]\n",
    "cities=cities.iloc[:-1,[0,3,5,6,7,8]]\n",
    "cities['MLB'] = cities['MLB'].str.replace(r'\\[.*\\]|—', '')\n",
    "cities['Population (2016 est.)[8]'] = pd.to_numeric(cities['Population (2016 est.)[8]'])\n",
    "cities['MLB'] = cities['MLB'].str.replace('Mets|Angels|Athletics|White Sox', '')\n",
    "#print(cities[['Metropolitan area','Population (2016 est.)[8]','MLB']])\n",
    "\n",
    "mlb_cities_df = mlb_df.merge(cities, how='inner', on='MLB')\n",
    "\n",
    "def mlb_correlation(): \n",
    "    # YOUR CODE HERE\n",
    "    #raise NotImplementedError()\n",
    "    \n",
    "    population_by_region = mlb_cities_df['Population (2016 est.)[8]'] # pass in metropolitan area population from cities\n",
    "    win_loss_by_region = mlb_cities_df['win/loss ratio'] # pass in win/loss ratio from mlb_df in the same order as cities[\"Metropolitan area\"]\n",
    "\n",
    "    assert len(population_by_region) == len(win_loss_by_region), \"Q3: Your lists must be the same length\"\n",
    "    assert len(population_by_region) == 26, \"Q3: There should be 26 teams being analysed for MLB\"\n",
    "    \n",
    "    (corr,p) = stats.pearsonr(population_by_region, win_loss_by_region)\n",
    "    return corr\n",
    "mlb_correlation()"
   ]
  },
  {
   "cell_type": "code",
   "execution_count": null,
   "metadata": {
    "deletable": false,
    "editable": false,
    "nbgrader": {
     "checksum": "cda33b094ba19ccc37a481e0dd29e0bc",
     "grade": true,
     "grade_id": "cell-764d4476f425c5a2",
     "locked": true,
     "points": 20,
     "schema_version": 1,
     "solution": false
    }
   },
   "outputs": [],
   "source": []
  },
  {
   "cell_type": "markdown",
   "metadata": {
    "deletable": false,
    "editable": false,
    "nbgrader": {
     "checksum": "6977a6da9ed6d8b7a0b7e37bbeda709b",
     "grade": false,
     "grade_id": "cell-793df6c04dfb126e",
     "locked": true,
     "schema_version": 1,
     "solution": false
    }
   },
   "source": [
    "## Question 4\n",
    "For this question, calculate the win/loss ratio's correlation with the population of the city it is in for the **NFL** using **2018** data."
   ]
  },
  {
   "cell_type": "code",
   "execution_count": 4,
   "metadata": {
    "deletable": false,
    "nbgrader": {
     "checksum": "c4914ad1e119278ec2bd567c52640b66",
     "grade": false,
     "grade_id": "cell-8ccebc209aeec8d9",
     "locked": false,
     "schema_version": 1,
     "solution": true
    }
   },
   "outputs": [
    {
     "data": {
      "text/plain": [
       "0.00492211214934943"
      ]
     },
     "execution_count": 4,
     "metadata": {},
     "output_type": "execute_result"
    }
   ],
   "source": [
    "import pandas as pd\n",
    "import numpy as np\n",
    "import scipy.stats as stats\n",
    "import re\n",
    "\n",
    "nfl_df=pd.read_csv(\"assets/nfl.csv\")\n",
    "nfl_df=nfl_df[nfl_df['year']==2018].drop([0,5,10,15,20,25,30,35])\n",
    "nfl_df['team'] = nfl_df['team'].str.replace(r'[*+]', '')\n",
    "nfl_df['W'] = pd.to_numeric(nfl_df['W'])\n",
    "nfl_df['L'] = pd.to_numeric(nfl_df['L'])\n",
    "nfl_df['win/loss ratio'] = nfl_df['W']/(nfl_df['W']+nfl_df['L'])\n",
    "\n",
    "new = nfl_df[\"team\"].str.rsplit(\" \", expand = True)\n",
    "new[3] = ''\n",
    "for i in new.index:\n",
    "    if (i in new[new[2].notna()].index):\n",
    "        new[3][i] = new[2][i]\n",
    "    else:\n",
    "        new[3][i] = new[1][i]\n",
    "nfl_df['NFL'] = new[3]\n",
    "GJ = nfl_df['win/loss ratio'][[4,24]]\n",
    "nfl_df['win/loss ratio'][[4,24]] = GJ.mean()\n",
    "RC = nfl_df['win/loss ratio'][[17,36]]\n",
    "nfl_df['win/loss ratio'][[17,36]] = RC.mean()\n",
    "FR = nfl_df['win/loss ratio'][[19,38]]\n",
    "nfl_df['win/loss ratio'][[19,38]] = FR.mean()\n",
    "#print(nfl_df[['NFL','win/loss ratio']])\n",
    "\n",
    "cities=pd.read_html(\"assets/wikipedia_data.html\")[1]\n",
    "cities=cities.iloc[:-1,[0,3,5,6,7,8]]\n",
    "cities['NFL'] = cities['NFL'].str.replace(r'\\[.*\\]|—', '')\n",
    "cities['Population (2016 est.)[8]'] = pd.to_numeric(cities['Population (2016 est.)[8]'])\n",
    "cities['NFL'] = cities['NFL'].str.replace('Jets|Chargers|Raiders', '')\n",
    "#print(cities[['Metropolitan area','Population (2016 est.)[8]','NFL']])\n",
    "\n",
    "nfl_cities_df = nfl_df.merge(cities, how='inner', on='NFL')\n",
    "\n",
    "def nfl_correlation(): \n",
    "    # YOUR CODE HERE\n",
    "    #raise NotImplementedError()\n",
    "    \n",
    "    population_by_region = nfl_cities_df['Population (2016 est.)[8]'] # pass in metropolitan area population from cities\n",
    "    win_loss_by_region = nfl_cities_df['win/loss ratio'] # pass in win/loss ratio from mlb_df in the same order as cities[\"Metropolitan area\"]\n",
    "\n",
    "    assert len(population_by_region) == len(win_loss_by_region), \"Q4: Your lists must be the same length\"\n",
    "    assert len(population_by_region) == 29, \"Q4: There should be 29 teams being analysed for NFL\"\n",
    "\n",
    "    (corr,p) = stats.pearsonr(population_by_region, win_loss_by_region)\n",
    "    return corr\n",
    "nfl_correlation()"
   ]
  },
  {
   "cell_type": "code",
   "execution_count": null,
   "metadata": {
    "deletable": false,
    "editable": false,
    "nbgrader": {
     "checksum": "e9415d6399aa49e3a1a60813afdefa3b",
     "grade": true,
     "grade_id": "cell-de7b148b9554dbda",
     "locked": true,
     "points": 20,
     "schema_version": 1,
     "solution": false
    }
   },
   "outputs": [],
   "source": []
  },
  {
   "cell_type": "markdown",
   "metadata": {
    "deletable": false,
    "editable": false,
    "nbgrader": {
     "checksum": "b02d5cd3273f561e4ae939bb2a41740c",
     "grade": false,
     "grade_id": "cell-97b49d8639e908c4",
     "locked": true,
     "schema_version": 1,
     "solution": false
    }
   },
   "source": [
    "## Question 5\n",
    "In this question I would like you to explore the hypothesis that **given that an area has two sports teams in different sports, those teams will perform the same within their respective sports**. How I would like to see this explored is with a series of paired t-tests (so use [`ttest_rel`](https://docs.scipy.org/doc/scipy/reference/generated/scipy.stats.ttest_rel.html)) between all pairs of sports. Are there any sports where we can reject the null hypothesis? Again, average values where a sport has multiple teams in one region. Remember, you will only be including, for each sport, cities which have teams engaged in that sport, drop others as appropriate. This question is worth 20% of the grade for this assignment."
   ]
  },
  {
   "cell_type": "code",
   "execution_count": 7,
   "metadata": {
    "deletable": false,
    "nbgrader": {
     "checksum": "92b8bedc9c49fca1ef724ab5ce526db5",
     "grade": false,
     "grade_id": "cell-92f25f44b8d1179f",
     "locked": false,
     "schema_version": 1,
     "solution": true
    }
   },
   "outputs": [
    {
     "data": {
      "text/html": [
       "<div>\n",
       "<style scoped>\n",
       "    .dataframe tbody tr th:only-of-type {\n",
       "        vertical-align: middle;\n",
       "    }\n",
       "\n",
       "    .dataframe tbody tr th {\n",
       "        vertical-align: top;\n",
       "    }\n",
       "\n",
       "    .dataframe thead th {\n",
       "        text-align: right;\n",
       "    }\n",
       "</style>\n",
       "<table border=\"1\" class=\"dataframe\">\n",
       "  <thead>\n",
       "    <tr style=\"text-align: right;\">\n",
       "      <th></th>\n",
       "      <th>NFL</th>\n",
       "      <th>NBA</th>\n",
       "      <th>NHL</th>\n",
       "      <th>MLB</th>\n",
       "    </tr>\n",
       "  </thead>\n",
       "  <tbody>\n",
       "    <tr>\n",
       "      <th>NFL</th>\n",
       "      <td>NaN</td>\n",
       "      <td>0.941792</td>\n",
       "      <td>0.030883</td>\n",
       "      <td>0.802069</td>\n",
       "    </tr>\n",
       "    <tr>\n",
       "      <th>NBA</th>\n",
       "      <td>0.941792</td>\n",
       "      <td>NaN</td>\n",
       "      <td>0.022297</td>\n",
       "      <td>0.950540</td>\n",
       "    </tr>\n",
       "    <tr>\n",
       "      <th>NHL</th>\n",
       "      <td>0.030883</td>\n",
       "      <td>0.022297</td>\n",
       "      <td>NaN</td>\n",
       "      <td>0.000708</td>\n",
       "    </tr>\n",
       "    <tr>\n",
       "      <th>MLB</th>\n",
       "      <td>0.802069</td>\n",
       "      <td>0.950540</td>\n",
       "      <td>0.000708</td>\n",
       "      <td>NaN</td>\n",
       "    </tr>\n",
       "  </tbody>\n",
       "</table>\n",
       "</div>"
      ],
      "text/plain": [
       "          NFL       NBA       NHL       MLB\n",
       "NFL       NaN  0.941792  0.030883  0.802069\n",
       "NBA  0.941792       NaN  0.022297  0.950540\n",
       "NHL  0.030883  0.022297       NaN  0.000708\n",
       "MLB  0.802069  0.950540  0.000708       NaN"
      ]
     },
     "execution_count": 7,
     "metadata": {},
     "output_type": "execute_result"
    }
   ],
   "source": [
    "import pandas as pd\n",
    "import numpy as np\n",
    "import scipy.stats as stats\n",
    "import re\n",
    "\n",
    "#mlb_df=pd.read_csv(\"assets/mlb.csv\")\n",
    "mlb_cities_df['MLB'] = mlb_cities_df['win/loss ratio']\n",
    "#print(mlb_cities_df[['Metropolitan area','MLB']])\n",
    "#nhl_df=pd.read_csv(\"assets/nhl.csv\")\n",
    "nhl_cities_df['NHL'] = nhl_cities_df['win/loss ratio']\n",
    "#print(nhl_cities_df[['Metropolitan area','NHL']])\n",
    "#nba_df=pd.read_csv(\"assets/nba.csv\")\n",
    "nba_cities_df['NBA'] = nba_cities_df['win/loss ratio']\n",
    "#print(nba_cities_df[['Metropolitan area','NBA']])\n",
    "#nfl_df=pd.read_csv(\"assets/nfl.csv\")\n",
    "nfl_cities_df['NFL'] = nfl_cities_df['win/loss ratio']\n",
    "#print(nfl_cities_df[['Metropolitan area','NFL']])\n",
    "#cities=pd.read_html(\"assets/wikipedia_data.html\")[1]\n",
    "#cities=cities.iloc[:-1,[0,3,5,6,7,8]]\n",
    "\n",
    "Big_Four_1 = mlb_cities_df[['Metropolitan area','MLB']].merge(nhl_cities_df[['Metropolitan area','NHL']], how='outer', on='Metropolitan area')\n",
    "Big_Four_2 = nba_cities_df[['Metropolitan area','NBA']].merge(nfl_cities_df[['Metropolitan area','NFL']], how='outer', on='Metropolitan area')\n",
    "Big_Four = Big_Four_1.merge(Big_Four_2, how='outer', on='Metropolitan area')\n",
    "Big_Four['is_nan'] = 0\n",
    "for i in Big_Four.index:\n",
    "    Big_Four['is_nan'][i] = Big_Four.iloc[[i]].isna().sum().sum()\n",
    "Big_Four = Big_Four.drop(Big_Four[Big_Four.is_nan == 3].index).drop(columns='is_nan')\n",
    "#print(Big_Four)\n",
    "#print(p)\n",
    "\n",
    "def sports_team_performance():\n",
    "    # YOUR CODE HERE\n",
    "    #raise NotImplementedError()\n",
    "    \n",
    "    # Note: p_values is a full dataframe, so df.loc[\"NFL\",\"NBA\"] should be the same as df.loc[\"NBA\",\"NFL\"] and\n",
    "    # df.loc[\"NFL\",\"NFL\"] should return np.nan\n",
    "    sports = ['NFL', 'NBA', 'NHL', 'MLB']\n",
    "    p_values = pd.DataFrame({k:np.nan for k in sports}, index=sports)\n",
    "    for i in sports:\n",
    "        for j in sports:\n",
    "            if i != j:\n",
    "                (corr,p) = stats.ttest_rel(Big_Four[i], Big_Four[j],nan_policy='omit')\n",
    "                p_values[i][j] = p\n",
    "            \n",
    "    #print(p_values)\n",
    "    assert abs(p_values.loc[\"NBA\", \"NHL\"] - 0.02) <= 1e-2, \"The NBA-NFL p-value should be around 0.02\"\n",
    "    assert abs(p_values.loc[\"MLB\", \"NFL\"] - 0.80) <= 1e-2, \"The MLB-NFL p-value should be around 0.80\"\n",
    "    return p_values\n",
    "sports_team_performance()"
   ]
  },
  {
   "cell_type": "code",
   "execution_count": null,
   "metadata": {
    "deletable": false,
    "editable": false,
    "nbgrader": {
     "checksum": "2a596ab421a45cc01168d10e8fbb8f89",
     "grade": true,
     "grade_id": "cell-fb4b9cb5ff4570a6",
     "locked": true,
     "points": 20,
     "schema_version": 1,
     "solution": false
    }
   },
   "outputs": [],
   "source": []
  }
 ],
 "metadata": {
  "coursera": {
   "schema_names": [
    "mooc_adswpy_1_v2_assignment4"
   ]
  },
  "kernelspec": {
   "display_name": "Python 3",
   "language": "python",
   "name": "python3"
  },
  "language_info": {
   "codemirror_mode": {
    "name": "ipython",
    "version": 3
   },
   "file_extension": ".py",
   "mimetype": "text/x-python",
   "name": "python",
   "nbconvert_exporter": "python",
   "pygments_lexer": "ipython3",
   "version": "3.7.3"
  }
 },
 "nbformat": 4,
 "nbformat_minor": 1
}
